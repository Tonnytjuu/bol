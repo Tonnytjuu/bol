{
 "cells": [
  {
   "cell_type": "code",
   "execution_count": 2,
   "id": "initial_id",
   "metadata": {
    "collapsed": true,
    "ExecuteTime": {
     "end_time": "2023-10-26T14:52:31.854136Z",
     "start_time": "2023-10-26T14:52:27.805898Z"
    }
   },
   "outputs": [],
   "source": [
    "import pandas as pd"
   ]
  },
  {
   "cell_type": "markdown",
   "source": [
    "## Loading the parque files\n",
    "as you can see the parque function recovers the field names. "
   ],
   "metadata": {
    "collapsed": false
   },
   "id": "e7385bbd73dafd5"
  },
  {
   "cell_type": "code",
   "execution_count": 41,
   "outputs": [
    {
     "data": {
      "text/plain": "                     _surrogate_key dateAmsterdam          eventTimestamp  \\\n0  bc6c663d8987017154a859a3d60e00ba    2022-11-06 2022-11-06 16:25:29.898   \n1  67f4edd1c0997a3131e2e0b6fcb08c8d    2022-11-06 2022-11-06 16:12:48.301   \n2  82551fd0570e41e9903b63d74a90d85d    2022-11-06 2022-11-06 20:35:14.848   \n3  d375b023dd4f79ebadd044d6a3055760    2022-11-06 2022-11-06 21:00:49.837   \n4  55dd5a271c225756560d805a83714632    2022-11-06 2022-11-06 12:10:58.158   \n\n                  eventId pageName                                  hookId  \\\n0  h9K-7q4Rx4Ognl3IkFxNJw       RA                                    None   \n1  o0yOzo7S0jS3cwPxhxhFnQ       RA   o9TyTRhReXmfnWCCoxVCEQ.4_10.11.Banner   \n2  lXcQHWOKj-eqm5OumhtIQQ       RA     iQrm94vMJLtJowlVJHBPwQ.5_8.9.Banner   \n3  nPzVqpKKJ5xUTJEXlo5Faw       RA  iKfP-nFesQu7W90sMM5CTg.43_50.51.Banner   \n4  q5zymTbPTpiZ1dcb0k1PYg       RA   jah--Wmy4OQGorwng7NO1Q.4_10.11.Banner   \n\n                                       visitId  isWebsite  isAndroid  isIOS  \n0  +B/A5vuJu0CzjZpdnTnjmUrEb8CgZQtg/ammnrmRk/0          1          0      0  \n1  /LTTUwXyKNTlJUUmy/6YXU5icZNy5mWUEXQbp+Hrh7E          1          0      0  \n2  0l9HX7jbGdA/RgKc8bwfUMHjolcq6gj0s+/mffPhu6Y          1          0      0  \n3  0tlyA2jn2G//z1iW2AXOhymd53nQlDK8DRJ11Q10lqA          1          0      0  \n4  1bG0AB3f4OW1g2fh/hseLfJALg2VLGWw6/8x4QbIVUE          1          0      0  ",
      "text/html": "<div>\n<style scoped>\n    .dataframe tbody tr th:only-of-type {\n        vertical-align: middle;\n    }\n\n    .dataframe tbody tr th {\n        vertical-align: top;\n    }\n\n    .dataframe thead th {\n        text-align: right;\n    }\n</style>\n<table border=\"1\" class=\"dataframe\">\n  <thead>\n    <tr style=\"text-align: right;\">\n      <th></th>\n      <th>_surrogate_key</th>\n      <th>dateAmsterdam</th>\n      <th>eventTimestamp</th>\n      <th>eventId</th>\n      <th>pageName</th>\n      <th>hookId</th>\n      <th>visitId</th>\n      <th>isWebsite</th>\n      <th>isAndroid</th>\n      <th>isIOS</th>\n    </tr>\n  </thead>\n  <tbody>\n    <tr>\n      <th>0</th>\n      <td>bc6c663d8987017154a859a3d60e00ba</td>\n      <td>2022-11-06</td>\n      <td>2022-11-06 16:25:29.898</td>\n      <td>h9K-7q4Rx4Ognl3IkFxNJw</td>\n      <td>RA</td>\n      <td>None</td>\n      <td>+B/A5vuJu0CzjZpdnTnjmUrEb8CgZQtg/ammnrmRk/0</td>\n      <td>1</td>\n      <td>0</td>\n      <td>0</td>\n    </tr>\n    <tr>\n      <th>1</th>\n      <td>67f4edd1c0997a3131e2e0b6fcb08c8d</td>\n      <td>2022-11-06</td>\n      <td>2022-11-06 16:12:48.301</td>\n      <td>o0yOzo7S0jS3cwPxhxhFnQ</td>\n      <td>RA</td>\n      <td>o9TyTRhReXmfnWCCoxVCEQ.4_10.11.Banner</td>\n      <td>/LTTUwXyKNTlJUUmy/6YXU5icZNy5mWUEXQbp+Hrh7E</td>\n      <td>1</td>\n      <td>0</td>\n      <td>0</td>\n    </tr>\n    <tr>\n      <th>2</th>\n      <td>82551fd0570e41e9903b63d74a90d85d</td>\n      <td>2022-11-06</td>\n      <td>2022-11-06 20:35:14.848</td>\n      <td>lXcQHWOKj-eqm5OumhtIQQ</td>\n      <td>RA</td>\n      <td>iQrm94vMJLtJowlVJHBPwQ.5_8.9.Banner</td>\n      <td>0l9HX7jbGdA/RgKc8bwfUMHjolcq6gj0s+/mffPhu6Y</td>\n      <td>1</td>\n      <td>0</td>\n      <td>0</td>\n    </tr>\n    <tr>\n      <th>3</th>\n      <td>d375b023dd4f79ebadd044d6a3055760</td>\n      <td>2022-11-06</td>\n      <td>2022-11-06 21:00:49.837</td>\n      <td>nPzVqpKKJ5xUTJEXlo5Faw</td>\n      <td>RA</td>\n      <td>iKfP-nFesQu7W90sMM5CTg.43_50.51.Banner</td>\n      <td>0tlyA2jn2G//z1iW2AXOhymd53nQlDK8DRJ11Q10lqA</td>\n      <td>1</td>\n      <td>0</td>\n      <td>0</td>\n    </tr>\n    <tr>\n      <th>4</th>\n      <td>55dd5a271c225756560d805a83714632</td>\n      <td>2022-11-06</td>\n      <td>2022-11-06 12:10:58.158</td>\n      <td>q5zymTbPTpiZ1dcb0k1PYg</td>\n      <td>RA</td>\n      <td>jah--Wmy4OQGorwng7NO1Q.4_10.11.Banner</td>\n      <td>1bG0AB3f4OW1g2fh/hseLfJALg2VLGWw6/8x4QbIVUE</td>\n      <td>1</td>\n      <td>0</td>\n      <td>0</td>\n    </tr>\n  </tbody>\n</table>\n</div>"
     },
     "execution_count": 41,
     "metadata": {},
     "output_type": "execute_result"
    }
   ],
   "source": [
    "pageview = pd.read_parquet('./fct_page_view_nl.parque')\n",
    "pageview.head()"
   ],
   "metadata": {
    "collapsed": false,
    "ExecuteTime": {
     "end_time": "2023-10-26T15:14:36.035606Z",
     "start_time": "2023-10-26T15:14:35.643579Z"
    }
   },
   "id": "2bb4911ccd33b6"
  },
  {
   "cell_type": "markdown",
   "source": [
    "## Structure of the data\n",
    "\n",
    "### data subjects\n",
    "\n",
    "This dataset is only including certain visitIds that are part of a so called A/A, test was performed to create a dataset that can be analyzed. The randomization took place on deviceId.\n",
    "\n",
    "You can join the pageviews back to the `dim_ab_subjects_limited.parque` to find deviceIds or customerIds with multiple visitIds. This way, you are able to create a mapping of behavior and returning visits.\n",
    "\n",
    "* a visitId is created on the first event, and expires after 30 minutes of inactivity with a max length of 12 hours. \n",
    "* a deviceId is an identifier consistent over long period of time (cookie expiry on this is set to the maximum of 12 years, but its likely cleared more often by browser clients).\n",
    "* a customerId is only present when the user is logged in, the deviceId is always present."
   ],
   "metadata": {
    "collapsed": false
   },
   "id": "a1673df718b9ea54"
  },
  {
   "cell_type": "code",
   "execution_count": 65,
   "outputs": [],
   "source": [
    "subjects = pd.read_parquet('./dim_ab_subjects_limited.parque')"
   ],
   "metadata": {
    "collapsed": false,
    "ExecuteTime": {
     "end_time": "2023-10-26T15:52:25.286761Z",
     "start_time": "2023-10-26T15:52:25.186654Z"
    }
   },
   "id": "8a8a77ccbbf40b8"
  },
  {
   "cell_type": "code",
   "execution_count": 68,
   "outputs": [
    {
     "data": {
      "text/plain": "       dateAmsterdam          eventTimestamp  \\\n48        2022-10-24 2022-10-24 16:17:51.290   \n140263    2022-11-07 2022-11-07 21:26:13.842   \n\n                                            visitId  \\\n48      3Se2rHF/ezhR0bF7DG7hhlSZ2uTAVNyC29UT/Sy9ZQ4   \n140263  szhUCvRffBM23R45SXfsL2lRXz7a/+vmZK3osjlY0rw   \n\n                                               customerId  \\\n48      b'\\x05\\xf2G\\xef%z\\x87{%\\xa4\\xa9-;\\xb6\\xf5\\x99R...   \n140263  b'\\x05\\xf2G\\xef%z\\x87{%\\xa4\\xa9-;\\xb6\\xf5\\x99R...   \n\n                                                 deviceId  \n48      b'>}\\xbbT5A\\xc6E\\xccmlB\\xb1\\x15\\xee\\xc9{\\xf5#\\...  \n140263  b'DC\\x03=\\tV\\x01n\\xa8v\\xc0}G\\x00\\x92\\xacS\\x8b?...  ",
      "text/html": "<div>\n<style scoped>\n    .dataframe tbody tr th:only-of-type {\n        vertical-align: middle;\n    }\n\n    .dataframe tbody tr th {\n        vertical-align: top;\n    }\n\n    .dataframe thead th {\n        text-align: right;\n    }\n</style>\n<table border=\"1\" class=\"dataframe\">\n  <thead>\n    <tr style=\"text-align: right;\">\n      <th></th>\n      <th>dateAmsterdam</th>\n      <th>eventTimestamp</th>\n      <th>visitId</th>\n      <th>customerId</th>\n      <th>deviceId</th>\n    </tr>\n  </thead>\n  <tbody>\n    <tr>\n      <th>48</th>\n      <td>2022-10-24</td>\n      <td>2022-10-24 16:17:51.290</td>\n      <td>3Se2rHF/ezhR0bF7DG7hhlSZ2uTAVNyC29UT/Sy9ZQ4</td>\n      <td>b'\\x05\\xf2G\\xef%z\\x87{%\\xa4\\xa9-;\\xb6\\xf5\\x99R...</td>\n      <td>b'&gt;}\\xbbT5A\\xc6E\\xccmlB\\xb1\\x15\\xee\\xc9{\\xf5#\\...</td>\n    </tr>\n    <tr>\n      <th>140263</th>\n      <td>2022-11-07</td>\n      <td>2022-11-07 21:26:13.842</td>\n      <td>szhUCvRffBM23R45SXfsL2lRXz7a/+vmZK3osjlY0rw</td>\n      <td>b'\\x05\\xf2G\\xef%z\\x87{%\\xa4\\xa9-;\\xb6\\xf5\\x99R...</td>\n      <td>b'DC\\x03=\\tV\\x01n\\xa8v\\xc0}G\\x00\\x92\\xacS\\x8b?...</td>\n    </tr>\n  </tbody>\n</table>\n</div>"
     },
     "execution_count": 68,
     "metadata": {},
     "output_type": "execute_result"
    }
   ],
   "source": [
    "# for example\n",
    "customerId = subjects['customerId']\n",
    "subjects[customerId == b'\\x05\\xf2G\\xef%z\\x87{%\\xa4\\xa9-;\\xb6\\xf5\\x99R\\xb19P\\x9f!;\\xb1:\\xc5N$\\xc4\\xf4\\xc6\\x16']"
   ],
   "metadata": {
    "collapsed": false,
    "ExecuteTime": {
     "end_time": "2023-10-26T15:56:00.003753Z",
     "start_time": "2023-10-26T15:55:59.997033Z"
    }
   },
   "id": "befb1d693936f31"
  },
  {
   "cell_type": "markdown",
   "source": [
    "## Anatomy of a page view\n",
    "\n",
    "## pageName\n",
    "\n",
    "Each page view has a unique identifier the `eventId`. By using the `vistiId` and `eventTimestamp` you can sequence the shopper's customer journey over one visit or multiple visits by joining back to `dim_ab_subjects_limited.parque` file.\n",
    "\n",
    "By looking at the pageName you'll be able to see if the visit converted to the wishlist or shopping basket and payment.\n"
   ],
   "metadata": {
    "collapsed": false
   },
   "id": "d651511e375812e8"
  },
  {
   "cell_type": "code",
   "execution_count": 47,
   "outputs": [
    {
     "data": {
      "text/plain": "                             count  unique                     top freq\npageName                                                               \nAddonPage                    11781   11781  qxMRgMBh-8HcQ6jwV8pOBQ    1\nBasket                        1397    1397  vLguQ-YOH0821yYgSg9MqQ    1\nCMS                           2647    2647  pR8hnc36seyAuIrztflNXg    1\nCheckout                      9874    9874  vlxIovL3y492TX3cyt9LAg    1\nHome                         27712   27712  gRRUwV2CtAqfderALC9ONw    1\nOHP                          41860   41860  nBYW6BnFPS-IBZQAVopO2g    1\nPDP                         460119  460119  nf0HquCg5lb9OqWrKjFHsA    1\nPaymentDone                   6679    6679  guCLxg5loyAjn2x-zg5Mbg    1\nPriceComparePage             60542   60542  oSS23enL5xyIt58uOyhHyQ    1\nProductRecommendationsPage     525     525  gUyRkb-4E60sNGD4cV5F-Q    1\nRA                            3656    3656  h9K-7q4Rx4Ognl3IkFxNJw    1\nSEARCH                       61690   61690  nmkqqZAiFDT2nCTE-JNL0w    1\nWishlist                      4272    4272  lOxt9nIzG59VU4N6ljpNAQ    1",
      "text/html": "<div>\n<style scoped>\n    .dataframe tbody tr th:only-of-type {\n        vertical-align: middle;\n    }\n\n    .dataframe tbody tr th {\n        vertical-align: top;\n    }\n\n    .dataframe thead th {\n        text-align: right;\n    }\n</style>\n<table border=\"1\" class=\"dataframe\">\n  <thead>\n    <tr style=\"text-align: right;\">\n      <th></th>\n      <th>count</th>\n      <th>unique</th>\n      <th>top</th>\n      <th>freq</th>\n    </tr>\n    <tr>\n      <th>pageName</th>\n      <th></th>\n      <th></th>\n      <th></th>\n      <th></th>\n    </tr>\n  </thead>\n  <tbody>\n    <tr>\n      <th>AddonPage</th>\n      <td>11781</td>\n      <td>11781</td>\n      <td>qxMRgMBh-8HcQ6jwV8pOBQ</td>\n      <td>1</td>\n    </tr>\n    <tr>\n      <th>Basket</th>\n      <td>1397</td>\n      <td>1397</td>\n      <td>vLguQ-YOH0821yYgSg9MqQ</td>\n      <td>1</td>\n    </tr>\n    <tr>\n      <th>CMS</th>\n      <td>2647</td>\n      <td>2647</td>\n      <td>pR8hnc36seyAuIrztflNXg</td>\n      <td>1</td>\n    </tr>\n    <tr>\n      <th>Checkout</th>\n      <td>9874</td>\n      <td>9874</td>\n      <td>vlxIovL3y492TX3cyt9LAg</td>\n      <td>1</td>\n    </tr>\n    <tr>\n      <th>Home</th>\n      <td>27712</td>\n      <td>27712</td>\n      <td>gRRUwV2CtAqfderALC9ONw</td>\n      <td>1</td>\n    </tr>\n    <tr>\n      <th>OHP</th>\n      <td>41860</td>\n      <td>41860</td>\n      <td>nBYW6BnFPS-IBZQAVopO2g</td>\n      <td>1</td>\n    </tr>\n    <tr>\n      <th>PDP</th>\n      <td>460119</td>\n      <td>460119</td>\n      <td>nf0HquCg5lb9OqWrKjFHsA</td>\n      <td>1</td>\n    </tr>\n    <tr>\n      <th>PaymentDone</th>\n      <td>6679</td>\n      <td>6679</td>\n      <td>guCLxg5loyAjn2x-zg5Mbg</td>\n      <td>1</td>\n    </tr>\n    <tr>\n      <th>PriceComparePage</th>\n      <td>60542</td>\n      <td>60542</td>\n      <td>oSS23enL5xyIt58uOyhHyQ</td>\n      <td>1</td>\n    </tr>\n    <tr>\n      <th>ProductRecommendationsPage</th>\n      <td>525</td>\n      <td>525</td>\n      <td>gUyRkb-4E60sNGD4cV5F-Q</td>\n      <td>1</td>\n    </tr>\n    <tr>\n      <th>RA</th>\n      <td>3656</td>\n      <td>3656</td>\n      <td>h9K-7q4Rx4Ognl3IkFxNJw</td>\n      <td>1</td>\n    </tr>\n    <tr>\n      <th>SEARCH</th>\n      <td>61690</td>\n      <td>61690</td>\n      <td>nmkqqZAiFDT2nCTE-JNL0w</td>\n      <td>1</td>\n    </tr>\n    <tr>\n      <th>Wishlist</th>\n      <td>4272</td>\n      <td>4272</td>\n      <td>lOxt9nIzG59VU4N6ljpNAQ</td>\n      <td>1</td>\n    </tr>\n  </tbody>\n</table>\n</div>"
     },
     "execution_count": 47,
     "metadata": {},
     "output_type": "execute_result"
    }
   ],
   "source": [
    "pageview.groupby(by='pageName')['eventId'].describe()"
   ],
   "metadata": {
    "collapsed": false,
    "ExecuteTime": {
     "end_time": "2023-10-26T15:33:55.595467Z",
     "start_time": "2023-10-26T15:33:55.339839Z"
    }
   },
   "id": "f120b45689d40384"
  },
  {
   "cell_type": "markdown",
   "source": [
    "### hookId\n",
    "\n",
    "A hookId is stored on every element that is tagged to the item level (can be a banner, a review or a product, can be even a listpage filter or menu item).\n",
    "\n",
    "You can use take the first part of a hookId (everything until the first dot charachter (`.`) which is the same as the eventId.\n",
    "\n",
    "For example hookId = `o9TyTRhReXmfnWCCoxVCEQ.4_10.11.Banner`, which relates to eventId = `o9TyTRhReXmfnWCCoxVCEQ`. Thus you can perform reverse lookups to see which page the click originated from.\n",
    "This might also become relevant when analyzing other datasets that give describe on product or banner impressions (item level).\n",
    "\n",
    "In the hookId example `o9TyTRhReXmfnWCCoxVCEQ.4_10.11` is the itemId and \"Banner\" is the call to action from that UI item. Some items can have multiple call to actions, for example on a product there can be more than 5  \"call to actions\" or hookIds:\n",
    "\n",
    "- product title\n",
    "- product image\n",
    "- add to basket\n",
    "- add to wishlist\n",
    "- compare with other product\n"
   ],
   "metadata": {
    "collapsed": false
   },
   "id": "67ac8efdb9ede231"
  },
  {
   "cell_type": "markdown",
   "source": [
    "## Show the number of visitors per day\n"
   ],
   "metadata": {
    "collapsed": false
   },
   "id": "f19efa9eef738f48"
  },
  {
   "cell_type": "code",
   "execution_count": 26,
   "outputs": [
    {
     "data": {
      "text/plain": "               count unique                                          top  \\\ndateAmsterdam                                                              \n2022-10-24     35874   7496  nnFcxr7KJsFupOp+vdoLKeGiLv24QjZ/OOIUBes+jBo   \n2022-10-25     33069   7979  NELSJnR2LaXgNhKFlbJKeP41IUxSlu25KOv0C6xHIYI   \n2022-10-26     56791   7855  77FkBKzAlaGnrdJkPr0N5umYJqCwTRDnlMDmAb1Qa+M   \n2022-10-27     32917   7869  ZSaOyxyOInyRVN6nTLgF/wFbJkyYYFJiQUE/EIuZMLs   \n2022-10-28     34831   7757  bVkoYa0l4W1JlOIKTqsfwxBrb7Ib+cxa/EAduVD1iLU   \n2022-10-29     32935   7912  ngbsSz8b5YEWBWPTJnAUUUinbgRHHy3JLnP/d0U7VfY   \n2022-10-30     36410   8283  JBxzIoUK1zGq8GZVFgqb4O1eyAQh3ENZ4ys2lczYniU   \n2022-10-31     41750   7914  y0UvNswZYyPS2Gh4C/MLjUgy0Y4OosX1Z7UFwO/vkks   \n2022-11-01     46110   7812  Xxo80gD5ChpGIR2QzUV1zKYWP9GAtAUCbXTzLUPwaVg   \n2022-11-02     34065   7812  rNP/UdjxRq5qwdeT80ZFKAy8nVDiEjWdzlkDdL/w9pY   \n2022-11-03     34514   7922  SGTePMnia40c/ocKwlaSQzKD8uoxrWEaqXzRkNC+SjU   \n2022-11-05     34938   7821  FQLBIU27wcyn2w/GeUwmxLAoniRdvcWAfNdQzboVjUU   \n2022-11-06     42737   7839  sE2toES96rFkwfCzgpEJK7HUd3on4GrKlq2CzEA4vNU   \n2022-11-07     37540   8033  62Sv1sWtDw+3Xt+6blanZNLVHZabOXqS6aDLQ2g0eeA   \n2022-11-08     62102   7895  7Xz60B0P2FhwChnkUtzbxaB0iB0728p6Iymh8ZAn/mU   \n2022-11-09     36988   7927  xnXZ9h1p/gBkX58rKr0BZns8LeViIMfNiNzTZsDRLp4   \n2022-11-10     59183   8100  v06q/sq9/m0T3eJAtY8+aqwCP5zW+P7SmtROQIOvTnw   \n\n                freq  \ndateAmsterdam         \n2022-10-24       589  \n2022-10-25       237  \n2022-10-26     19217  \n2022-10-27       212  \n2022-10-28      1109  \n2022-10-29       172  \n2022-10-30       284  \n2022-10-31      3855  \n2022-11-01      9224  \n2022-11-02       961  \n2022-11-03      1608  \n2022-11-05      2055  \n2022-11-06      5578  \n2022-11-07      1069  \n2022-11-08     23683  \n2022-11-09      1231  \n2022-11-10     14825  ",
      "text/html": "<div>\n<style scoped>\n    .dataframe tbody tr th:only-of-type {\n        vertical-align: middle;\n    }\n\n    .dataframe tbody tr th {\n        vertical-align: top;\n    }\n\n    .dataframe thead th {\n        text-align: right;\n    }\n</style>\n<table border=\"1\" class=\"dataframe\">\n  <thead>\n    <tr style=\"text-align: right;\">\n      <th></th>\n      <th>count</th>\n      <th>unique</th>\n      <th>top</th>\n      <th>freq</th>\n    </tr>\n    <tr>\n      <th>dateAmsterdam</th>\n      <th></th>\n      <th></th>\n      <th></th>\n      <th></th>\n    </tr>\n  </thead>\n  <tbody>\n    <tr>\n      <th>2022-10-24</th>\n      <td>35874</td>\n      <td>7496</td>\n      <td>nnFcxr7KJsFupOp+vdoLKeGiLv24QjZ/OOIUBes+jBo</td>\n      <td>589</td>\n    </tr>\n    <tr>\n      <th>2022-10-25</th>\n      <td>33069</td>\n      <td>7979</td>\n      <td>NELSJnR2LaXgNhKFlbJKeP41IUxSlu25KOv0C6xHIYI</td>\n      <td>237</td>\n    </tr>\n    <tr>\n      <th>2022-10-26</th>\n      <td>56791</td>\n      <td>7855</td>\n      <td>77FkBKzAlaGnrdJkPr0N5umYJqCwTRDnlMDmAb1Qa+M</td>\n      <td>19217</td>\n    </tr>\n    <tr>\n      <th>2022-10-27</th>\n      <td>32917</td>\n      <td>7869</td>\n      <td>ZSaOyxyOInyRVN6nTLgF/wFbJkyYYFJiQUE/EIuZMLs</td>\n      <td>212</td>\n    </tr>\n    <tr>\n      <th>2022-10-28</th>\n      <td>34831</td>\n      <td>7757</td>\n      <td>bVkoYa0l4W1JlOIKTqsfwxBrb7Ib+cxa/EAduVD1iLU</td>\n      <td>1109</td>\n    </tr>\n    <tr>\n      <th>2022-10-29</th>\n      <td>32935</td>\n      <td>7912</td>\n      <td>ngbsSz8b5YEWBWPTJnAUUUinbgRHHy3JLnP/d0U7VfY</td>\n      <td>172</td>\n    </tr>\n    <tr>\n      <th>2022-10-30</th>\n      <td>36410</td>\n      <td>8283</td>\n      <td>JBxzIoUK1zGq8GZVFgqb4O1eyAQh3ENZ4ys2lczYniU</td>\n      <td>284</td>\n    </tr>\n    <tr>\n      <th>2022-10-31</th>\n      <td>41750</td>\n      <td>7914</td>\n      <td>y0UvNswZYyPS2Gh4C/MLjUgy0Y4OosX1Z7UFwO/vkks</td>\n      <td>3855</td>\n    </tr>\n    <tr>\n      <th>2022-11-01</th>\n      <td>46110</td>\n      <td>7812</td>\n      <td>Xxo80gD5ChpGIR2QzUV1zKYWP9GAtAUCbXTzLUPwaVg</td>\n      <td>9224</td>\n    </tr>\n    <tr>\n      <th>2022-11-02</th>\n      <td>34065</td>\n      <td>7812</td>\n      <td>rNP/UdjxRq5qwdeT80ZFKAy8nVDiEjWdzlkDdL/w9pY</td>\n      <td>961</td>\n    </tr>\n    <tr>\n      <th>2022-11-03</th>\n      <td>34514</td>\n      <td>7922</td>\n      <td>SGTePMnia40c/ocKwlaSQzKD8uoxrWEaqXzRkNC+SjU</td>\n      <td>1608</td>\n    </tr>\n    <tr>\n      <th>2022-11-05</th>\n      <td>34938</td>\n      <td>7821</td>\n      <td>FQLBIU27wcyn2w/GeUwmxLAoniRdvcWAfNdQzboVjUU</td>\n      <td>2055</td>\n    </tr>\n    <tr>\n      <th>2022-11-06</th>\n      <td>42737</td>\n      <td>7839</td>\n      <td>sE2toES96rFkwfCzgpEJK7HUd3on4GrKlq2CzEA4vNU</td>\n      <td>5578</td>\n    </tr>\n    <tr>\n      <th>2022-11-07</th>\n      <td>37540</td>\n      <td>8033</td>\n      <td>62Sv1sWtDw+3Xt+6blanZNLVHZabOXqS6aDLQ2g0eeA</td>\n      <td>1069</td>\n    </tr>\n    <tr>\n      <th>2022-11-08</th>\n      <td>62102</td>\n      <td>7895</td>\n      <td>7Xz60B0P2FhwChnkUtzbxaB0iB0728p6Iymh8ZAn/mU</td>\n      <td>23683</td>\n    </tr>\n    <tr>\n      <th>2022-11-09</th>\n      <td>36988</td>\n      <td>7927</td>\n      <td>xnXZ9h1p/gBkX58rKr0BZns8LeViIMfNiNzTZsDRLp4</td>\n      <td>1231</td>\n    </tr>\n    <tr>\n      <th>2022-11-10</th>\n      <td>59183</td>\n      <td>8100</td>\n      <td>v06q/sq9/m0T3eJAtY8+aqwCP5zW+P7SmtROQIOvTnw</td>\n      <td>14825</td>\n    </tr>\n  </tbody>\n</table>\n</div>"
     },
     "execution_count": 26,
     "metadata": {},
     "output_type": "execute_result"
    }
   ],
   "source": [
    "pageview.groupby(by='dateAmsterdam')['visitId'].describe()"
   ],
   "metadata": {
    "collapsed": false,
    "ExecuteTime": {
     "end_time": "2023-10-26T15:06:16.315526Z",
     "start_time": "2023-10-26T15:06:16.229251Z"
    }
   },
   "id": "704165aac0167c8e"
  },
  {
   "cell_type": "markdown",
   "source": [
    "## Convert data types example\n",
    "\n",
    "by first creating a new dataframe where the data types are casted correctly, you can then use any available python function on the string, date int fields etc."
   ],
   "metadata": {
    "collapsed": false
   },
   "id": "897d07422e2c28fd"
  },
  {
   "cell_type": "code",
   "execution_count": 34,
   "outputs": [
    {
     "data": {
      "text/plain": "_surrogate_key    string[python]\ndateAmsterdam     datetime64[ns]\neventTimestamp    datetime64[ns]\neventId           string[python]\npageName          string[python]\nhookId            string[python]\nvisitId           string[python]\nisWebsite                  Int64\nisAndroid                  Int64\nisIOS                      Int64\ndtype: object"
     },
     "execution_count": 34,
     "metadata": {},
     "output_type": "execute_result"
    }
   ],
   "source": [
    "pageview = pageview.convert_dtypes()\n",
    "pageview['dateAmsterdam'] = pd.to_datetime(pageview['dateAmsterdam'], format=\"%Y-%m-%d\")\n",
    "pageview.dtypes"
   ],
   "metadata": {
    "collapsed": false,
    "ExecuteTime": {
     "end_time": "2023-10-26T15:10:26.639985Z",
     "start_time": "2023-10-26T15:10:26.415451Z"
    }
   },
   "id": "f971e7f0ef5667cf"
  },
  {
   "cell_type": "code",
   "execution_count": 33,
   "outputs": [
    {
     "data": {
      "text/plain": "0         16\n1         16\n2         20\n3         21\n4         12\n          ..\n692749    11\n692750     9\n692751     7\n692752     8\n692753    16\nName: eventTimestamp, Length: 692754, dtype: int64"
     },
     "execution_count": 33,
     "metadata": {},
     "output_type": "execute_result"
    }
   ],
   "source": [
    "pageview.eventTimestamp.map(lambda x: x.hour)"
   ],
   "metadata": {
    "collapsed": false,
    "ExecuteTime": {
     "end_time": "2023-10-26T15:09:39.473971Z",
     "start_time": "2023-10-26T15:09:38.887772Z"
    }
   },
   "id": "388b7554b864d1c1"
  }
 ],
 "metadata": {
  "kernelspec": {
   "display_name": "Python 3",
   "language": "python",
   "name": "python3"
  },
  "language_info": {
   "codemirror_mode": {
    "name": "ipython",
    "version": 2
   },
   "file_extension": ".py",
   "mimetype": "text/x-python",
   "name": "python",
   "nbconvert_exporter": "python",
   "pygments_lexer": "ipython2",
   "version": "2.7.6"
  }
 },
 "nbformat": 4,
 "nbformat_minor": 5
}
