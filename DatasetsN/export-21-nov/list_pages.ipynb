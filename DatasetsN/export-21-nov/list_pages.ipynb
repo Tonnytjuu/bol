{
 "cells": [
  {
   "cell_type": "code",
   "execution_count": 1,
   "outputs": [],
   "source": [
    "import pandas as pd"
   ],
   "metadata": {
    "collapsed": false,
    "ExecuteTime": {
     "end_time": "2023-11-21T12:54:19.973691Z",
     "start_time": "2023-11-21T12:54:18.573679Z"
    }
   },
   "id": "4cf31c048f3bbce"
  },
  {
   "cell_type": "code",
   "execution_count": 2,
   "id": "initial_id",
   "metadata": {
    "collapsed": true,
    "ExecuteTime": {
     "end_time": "2023-11-21T12:54:23.578836Z",
     "start_time": "2023-11-21T12:54:23.001406Z"
    }
   },
   "outputs": [
    {
     "data": {
      "text/plain": "                     _surragate_key  \\\n0  35d6b8160d274b7d26c7e1312e91916a   \n1  5695e991081cbfd4092da453723e82ea   \n2  2f89c1625d383be78725ea43e1be3728   \n3  a5ac7cbd077045d0c37057071e074247   \n4  78f961aeeef2764e67a34445894dc054   \n\n                                       visitId  \\\n0  ub71TeL1gI0dFZJLpaqYYkKlXiAgeR1jSmspQ0zqsjU   \n1  PQjCXNeJffzL142huu6F0aOxW1qQLvUsrAm5KOgzwOo   \n2  9y7h0G2YnvQAI8M4mOasDMphNd4PCVpKRluKWpb8Buk   \n3  wX4Toy56wUrgxjpBF5XhDyQLTuFYIXqwVE6QhkDL3Yo   \n4  P1QNHY7Wog4L3PnONDzcdYlm1t+HL8SGnnZoHyrOIZE   \n\n                                           eventId dateAmsterdam  \\\n0                         qs1RxwwQtek901tf-GNGug.3    2022-11-04   \n1                         nunNQmMIZrKo5TZiIp1PBw.3    2022-11-04   \n2  sfHchs4mxH4P-imTDcZAwA.u9qrje3iwli7GQSxaRNOqQ_0    2022-11-04   \n3  irOFKBicAp2ffNxgiYVH6g.hT0nkbnNlc-BvaNhECNIAg_0    2022-11-04   \n4  hmstnU-5CIg3FEaMUcxHVA.s8HTpkzy2dAG2-K6LbJGeQ_0    2022-11-04   \n\n           eventTimestamp  listPageNumber             containerId  \\\n0 2022-11-04 17:24:14.341               1  qs1RxwwQtek901tf-GNGug   \n1 2022-11-04 07:48:28.202               1  nunNQmMIZrKo5TZiIp1PBw   \n2 2022-11-04 11:28:41.240               4  sfHchs4mxH4P-imTDcZAwA   \n3 2022-11-04 07:10:02.815               2  irOFKBicAp2ffNxgiYVH6g   \n4 2022-11-04 20:42:09.439               4  hmstnU-5CIg3FEaMUcxHVA   \n\n  listSearchTyped listSearchCorrected                               hookId  \\\n0                                None                                 None   \n1                                None  oOa6NP5hlKbNsxPI2c5BVA.3_7.8.Banner   \n2                                None                                 None   \n3                                None                                 None   \n4                                None                                 None   \n\n  listFilters categoryId categoryTree  \n0          []       None           []  \n1          []       None           []  \n2          []       None           []  \n3          []       None           []  \n4          []       None           []  ",
      "text/html": "<div>\n<style scoped>\n    .dataframe tbody tr th:only-of-type {\n        vertical-align: middle;\n    }\n\n    .dataframe tbody tr th {\n        vertical-align: top;\n    }\n\n    .dataframe thead th {\n        text-align: right;\n    }\n</style>\n<table border=\"1\" class=\"dataframe\">\n  <thead>\n    <tr style=\"text-align: right;\">\n      <th></th>\n      <th>_surragate_key</th>\n      <th>visitId</th>\n      <th>eventId</th>\n      <th>dateAmsterdam</th>\n      <th>eventTimestamp</th>\n      <th>listPageNumber</th>\n      <th>containerId</th>\n      <th>listSearchTyped</th>\n      <th>listSearchCorrected</th>\n      <th>hookId</th>\n      <th>listFilters</th>\n      <th>categoryId</th>\n      <th>categoryTree</th>\n    </tr>\n  </thead>\n  <tbody>\n    <tr>\n      <th>0</th>\n      <td>35d6b8160d274b7d26c7e1312e91916a</td>\n      <td>ub71TeL1gI0dFZJLpaqYYkKlXiAgeR1jSmspQ0zqsjU</td>\n      <td>qs1RxwwQtek901tf-GNGug.3</td>\n      <td>2022-11-04</td>\n      <td>2022-11-04 17:24:14.341</td>\n      <td>1</td>\n      <td>qs1RxwwQtek901tf-GNGug</td>\n      <td></td>\n      <td>None</td>\n      <td>None</td>\n      <td>[]</td>\n      <td>None</td>\n      <td>[]</td>\n    </tr>\n    <tr>\n      <th>1</th>\n      <td>5695e991081cbfd4092da453723e82ea</td>\n      <td>PQjCXNeJffzL142huu6F0aOxW1qQLvUsrAm5KOgzwOo</td>\n      <td>nunNQmMIZrKo5TZiIp1PBw.3</td>\n      <td>2022-11-04</td>\n      <td>2022-11-04 07:48:28.202</td>\n      <td>1</td>\n      <td>nunNQmMIZrKo5TZiIp1PBw</td>\n      <td></td>\n      <td>None</td>\n      <td>oOa6NP5hlKbNsxPI2c5BVA.3_7.8.Banner</td>\n      <td>[]</td>\n      <td>None</td>\n      <td>[]</td>\n    </tr>\n    <tr>\n      <th>2</th>\n      <td>2f89c1625d383be78725ea43e1be3728</td>\n      <td>9y7h0G2YnvQAI8M4mOasDMphNd4PCVpKRluKWpb8Buk</td>\n      <td>sfHchs4mxH4P-imTDcZAwA.u9qrje3iwli7GQSxaRNOqQ_0</td>\n      <td>2022-11-04</td>\n      <td>2022-11-04 11:28:41.240</td>\n      <td>4</td>\n      <td>sfHchs4mxH4P-imTDcZAwA</td>\n      <td></td>\n      <td>None</td>\n      <td>None</td>\n      <td>[]</td>\n      <td>None</td>\n      <td>[]</td>\n    </tr>\n    <tr>\n      <th>3</th>\n      <td>a5ac7cbd077045d0c37057071e074247</td>\n      <td>wX4Toy56wUrgxjpBF5XhDyQLTuFYIXqwVE6QhkDL3Yo</td>\n      <td>irOFKBicAp2ffNxgiYVH6g.hT0nkbnNlc-BvaNhECNIAg_0</td>\n      <td>2022-11-04</td>\n      <td>2022-11-04 07:10:02.815</td>\n      <td>2</td>\n      <td>irOFKBicAp2ffNxgiYVH6g</td>\n      <td></td>\n      <td>None</td>\n      <td>None</td>\n      <td>[]</td>\n      <td>None</td>\n      <td>[]</td>\n    </tr>\n    <tr>\n      <th>4</th>\n      <td>78f961aeeef2764e67a34445894dc054</td>\n      <td>P1QNHY7Wog4L3PnONDzcdYlm1t+HL8SGnnZoHyrOIZE</td>\n      <td>hmstnU-5CIg3FEaMUcxHVA.s8HTpkzy2dAG2-K6LbJGeQ_0</td>\n      <td>2022-11-04</td>\n      <td>2022-11-04 20:42:09.439</td>\n      <td>4</td>\n      <td>hmstnU-5CIg3FEaMUcxHVA</td>\n      <td></td>\n      <td>None</td>\n      <td>None</td>\n      <td>[]</td>\n      <td>None</td>\n      <td>[]</td>\n    </tr>\n  </tbody>\n</table>\n</div>"
     },
     "execution_count": 2,
     "metadata": {},
     "output_type": "execute_result"
    }
   ],
   "source": [
    "listpages = pd.read_parquet('./fct_list_pages.parque')\n",
    "listpages.head()"
   ]
  },
  {
   "cell_type": "code",
   "execution_count": 3,
   "outputs": [
    {
     "data": {
      "text/plain": "                      eventTimestamp  listPageNumber\ncount                         294794   294794.000000\nmean   2022-11-02 04:10:21.349238784        5.845858\nmin       2022-10-24 07:03:01.863000        1.000000\n25%    2022-10-28 16:02:44.898749952        1.000000\n50%    2022-11-02 08:26:52.508499968        1.000000\n75%    2022-11-06 18:03:38.118249984        2.000000\nmax       2022-11-10 14:04:40.758000      500.000000\nstd                              NaN       30.402334",
      "text/html": "<div>\n<style scoped>\n    .dataframe tbody tr th:only-of-type {\n        vertical-align: middle;\n    }\n\n    .dataframe tbody tr th {\n        vertical-align: top;\n    }\n\n    .dataframe thead th {\n        text-align: right;\n    }\n</style>\n<table border=\"1\" class=\"dataframe\">\n  <thead>\n    <tr style=\"text-align: right;\">\n      <th></th>\n      <th>eventTimestamp</th>\n      <th>listPageNumber</th>\n    </tr>\n  </thead>\n  <tbody>\n    <tr>\n      <th>count</th>\n      <td>294794</td>\n      <td>294794.000000</td>\n    </tr>\n    <tr>\n      <th>mean</th>\n      <td>2022-11-02 04:10:21.349238784</td>\n      <td>5.845858</td>\n    </tr>\n    <tr>\n      <th>min</th>\n      <td>2022-10-24 07:03:01.863000</td>\n      <td>1.000000</td>\n    </tr>\n    <tr>\n      <th>25%</th>\n      <td>2022-10-28 16:02:44.898749952</td>\n      <td>1.000000</td>\n    </tr>\n    <tr>\n      <th>50%</th>\n      <td>2022-11-02 08:26:52.508499968</td>\n      <td>1.000000</td>\n    </tr>\n    <tr>\n      <th>75%</th>\n      <td>2022-11-06 18:03:38.118249984</td>\n      <td>2.000000</td>\n    </tr>\n    <tr>\n      <th>max</th>\n      <td>2022-11-10 14:04:40.758000</td>\n      <td>500.000000</td>\n    </tr>\n    <tr>\n      <th>std</th>\n      <td>NaN</td>\n      <td>30.402334</td>\n    </tr>\n  </tbody>\n</table>\n</div>"
     },
     "execution_count": 3,
     "metadata": {},
     "output_type": "execute_result"
    }
   ],
   "source": [
    "listpages.describe()"
   ],
   "metadata": {
    "collapsed": false,
    "ExecuteTime": {
     "end_time": "2023-11-21T12:54:27.717487Z",
     "start_time": "2023-11-21T12:54:27.703382Z"
    }
   },
   "id": "6f8fe11c2168bf10"
  },
  {
   "cell_type": "code",
   "execution_count": 4,
   "outputs": [],
   "source": [
    "listpages['containerId'] = listpages['eventId'].map(lambda e: e.split('.')[0])"
   ],
   "metadata": {
    "collapsed": false,
    "ExecuteTime": {
     "end_time": "2023-11-21T12:54:28.928388Z",
     "start_time": "2023-11-21T12:54:28.879518Z"
    }
   },
   "id": "3180dcbd069019a7"
  },
  {
   "cell_type": "code",
   "execution_count": 6,
   "outputs": [
    {
     "data": {
      "text/plain": "                     _surrogate_key dateAmsterdam          eventTimestamp  \\\n0  bc6c663d8987017154a859a3d60e00ba    2022-11-06 2022-11-06 16:25:29.898   \n1  67f4edd1c0997a3131e2e0b6fcb08c8d    2022-11-06 2022-11-06 16:12:48.301   \n2  82551fd0570e41e9903b63d74a90d85d    2022-11-06 2022-11-06 20:35:14.848   \n3  d375b023dd4f79ebadd044d6a3055760    2022-11-06 2022-11-06 21:00:49.837   \n4  55dd5a271c225756560d805a83714632    2022-11-06 2022-11-06 12:10:58.158   \n\n                  eventId pageName                                  hookId  \\\n0  h9K-7q4Rx4Ognl3IkFxNJw       RA                                    None   \n1  o0yOzo7S0jS3cwPxhxhFnQ       RA   o9TyTRhReXmfnWCCoxVCEQ.4_10.11.Banner   \n2  lXcQHWOKj-eqm5OumhtIQQ       RA     iQrm94vMJLtJowlVJHBPwQ.5_8.9.Banner   \n3  nPzVqpKKJ5xUTJEXlo5Faw       RA  iKfP-nFesQu7W90sMM5CTg.43_50.51.Banner   \n4  q5zymTbPTpiZ1dcb0k1PYg       RA   jah--Wmy4OQGorwng7NO1Q.4_10.11.Banner   \n\n                                       visitId  isWebsite  isAndroid  isIOS  \n0  +B/A5vuJu0CzjZpdnTnjmUrEb8CgZQtg/ammnrmRk/0          1          0      0  \n1  /LTTUwXyKNTlJUUmy/6YXU5icZNy5mWUEXQbp+Hrh7E          1          0      0  \n2  0l9HX7jbGdA/RgKc8bwfUMHjolcq6gj0s+/mffPhu6Y          1          0      0  \n3  0tlyA2jn2G//z1iW2AXOhymd53nQlDK8DRJ11Q10lqA          1          0      0  \n4  1bG0AB3f4OW1g2fh/hseLfJALg2VLGWw6/8x4QbIVUE          1          0      0  ",
      "text/html": "<div>\n<style scoped>\n    .dataframe tbody tr th:only-of-type {\n        vertical-align: middle;\n    }\n\n    .dataframe tbody tr th {\n        vertical-align: top;\n    }\n\n    .dataframe thead th {\n        text-align: right;\n    }\n</style>\n<table border=\"1\" class=\"dataframe\">\n  <thead>\n    <tr style=\"text-align: right;\">\n      <th></th>\n      <th>_surrogate_key</th>\n      <th>dateAmsterdam</th>\n      <th>eventTimestamp</th>\n      <th>eventId</th>\n      <th>pageName</th>\n      <th>hookId</th>\n      <th>visitId</th>\n      <th>isWebsite</th>\n      <th>isAndroid</th>\n      <th>isIOS</th>\n    </tr>\n  </thead>\n  <tbody>\n    <tr>\n      <th>0</th>\n      <td>bc6c663d8987017154a859a3d60e00ba</td>\n      <td>2022-11-06</td>\n      <td>2022-11-06 16:25:29.898</td>\n      <td>h9K-7q4Rx4Ognl3IkFxNJw</td>\n      <td>RA</td>\n      <td>None</td>\n      <td>+B/A5vuJu0CzjZpdnTnjmUrEb8CgZQtg/ammnrmRk/0</td>\n      <td>1</td>\n      <td>0</td>\n      <td>0</td>\n    </tr>\n    <tr>\n      <th>1</th>\n      <td>67f4edd1c0997a3131e2e0b6fcb08c8d</td>\n      <td>2022-11-06</td>\n      <td>2022-11-06 16:12:48.301</td>\n      <td>o0yOzo7S0jS3cwPxhxhFnQ</td>\n      <td>RA</td>\n      <td>o9TyTRhReXmfnWCCoxVCEQ.4_10.11.Banner</td>\n      <td>/LTTUwXyKNTlJUUmy/6YXU5icZNy5mWUEXQbp+Hrh7E</td>\n      <td>1</td>\n      <td>0</td>\n      <td>0</td>\n    </tr>\n    <tr>\n      <th>2</th>\n      <td>82551fd0570e41e9903b63d74a90d85d</td>\n      <td>2022-11-06</td>\n      <td>2022-11-06 20:35:14.848</td>\n      <td>lXcQHWOKj-eqm5OumhtIQQ</td>\n      <td>RA</td>\n      <td>iQrm94vMJLtJowlVJHBPwQ.5_8.9.Banner</td>\n      <td>0l9HX7jbGdA/RgKc8bwfUMHjolcq6gj0s+/mffPhu6Y</td>\n      <td>1</td>\n      <td>0</td>\n      <td>0</td>\n    </tr>\n    <tr>\n      <th>3</th>\n      <td>d375b023dd4f79ebadd044d6a3055760</td>\n      <td>2022-11-06</td>\n      <td>2022-11-06 21:00:49.837</td>\n      <td>nPzVqpKKJ5xUTJEXlo5Faw</td>\n      <td>RA</td>\n      <td>iKfP-nFesQu7W90sMM5CTg.43_50.51.Banner</td>\n      <td>0tlyA2jn2G//z1iW2AXOhymd53nQlDK8DRJ11Q10lqA</td>\n      <td>1</td>\n      <td>0</td>\n      <td>0</td>\n    </tr>\n    <tr>\n      <th>4</th>\n      <td>55dd5a271c225756560d805a83714632</td>\n      <td>2022-11-06</td>\n      <td>2022-11-06 12:10:58.158</td>\n      <td>q5zymTbPTpiZ1dcb0k1PYg</td>\n      <td>RA</td>\n      <td>jah--Wmy4OQGorwng7NO1Q.4_10.11.Banner</td>\n      <td>1bG0AB3f4OW1g2fh/hseLfJALg2VLGWw6/8x4QbIVUE</td>\n      <td>1</td>\n      <td>0</td>\n      <td>0</td>\n    </tr>\n  </tbody>\n</table>\n</div>"
     },
     "execution_count": 6,
     "metadata": {},
     "output_type": "execute_result"
    }
   ],
   "source": [
    "pageview = pd.read_parquet('./fct_page_view_nl.parque')\n",
    "pageview.head()"
   ],
   "metadata": {
    "collapsed": false,
    "ExecuteTime": {
     "end_time": "2023-11-21T12:55:19.428942Z",
     "start_time": "2023-11-21T12:55:18.975958Z"
    }
   },
   "id": "6947b77e0903c06e"
  },
  {
   "cell_type": "code",
   "execution_count": 29,
   "outputs": [],
   "source": [
    "# Selecting only a few fields we need in our merged dataframe\n",
    "pageview['containerId'] = pageview['eventId']\n",
    "# https://pandas.pydata.org/docs/getting_started/intro_tutorials/03_subset_data.html\n",
    "\n",
    "## taking only \"search\" pageviews\n",
    "pageview_min = pageview[['containerId', 'pageName']]"
   ],
   "metadata": {
    "collapsed": false,
    "ExecuteTime": {
     "end_time": "2023-11-21T13:19:35.979068Z",
     "start_time": "2023-11-21T13:19:35.954402Z"
    }
   },
   "id": "6b0d14d8005b7020"
  },
  {
   "cell_type": "code",
   "execution_count": 30,
   "outputs": [
    {
     "data": {
      "text/plain": "(212032, 14)"
     },
     "execution_count": 30,
     "metadata": {},
     "output_type": "execute_result"
    }
   ],
   "source": [
    "## Merge the two dataframes to be able to see the pageName for of the list pages\n",
    "# please double check that my merge statement is correct...\n",
    "# https://pandas.pydata.org/docs/reference/api/pandas.merge_ordered.html#pandas.merge_ordered\n",
    "\n",
    "## using inner join I drop all the list page rows that were not from search.\n",
    "## for example I'm filtering RA, SERIES or category pages\n",
    "listpages_named = pd.merge_ordered(how='inner', left=listpages, on='containerId', right=pageview_min)\n",
    "listpages_named.shape\n"
   ],
   "metadata": {
    "collapsed": false,
    "ExecuteTime": {
     "end_time": "2023-11-21T13:19:40.555491Z",
     "start_time": "2023-11-21T13:19:39.435086Z"
    }
   },
   "id": "fe39d037317bfc16"
  },
  {
   "cell_type": "code",
   "execution_count": 32,
   "outputs": [
    {
     "data": {
      "text/plain": "                          _surragate_key  \\\n59059   806954e65dd654e605b6eb4997577ca1   \n75940   58db7cbd5adaa599b95bd114c8f7d6fe   \n75941   ac0cd7bfd7283d6987bdde83be71c7db   \n92174   858f3261b5ed721d88fe1be7e8c82736   \n93159   edb01eba9663435fe0e5e2cc1ec57faf   \n101212  095c1f89d725f706f3e61f74beb5d00d   \n101488  5a4d8a5d27aec5aa54c9ce935cfe69a1   \n106778  0153790a05b992b359aa368c3015efdd   \n108608  fcd0e4f4add4b8988aeb6523cee4c670   \n174033  6b0fb0d725b65da269e2f85ec084c9ef   \n174034  1664c1d7dcea5bbaaf09d00b6f7a5da8   \n174035  08b3e6d4696e7d0bbf48a8b4734c7a38   \n\n                                            visitId  \\\n59059   /LTTUwXyKNTlJUUmy/6YXU5icZNy5mWUEXQbp+Hrh7E   \n75940   /LTTUwXyKNTlJUUmy/6YXU5icZNy5mWUEXQbp+Hrh7E   \n75941   /LTTUwXyKNTlJUUmy/6YXU5icZNy5mWUEXQbp+Hrh7E   \n92174   /LTTUwXyKNTlJUUmy/6YXU5icZNy5mWUEXQbp+Hrh7E   \n93159   /LTTUwXyKNTlJUUmy/6YXU5icZNy5mWUEXQbp+Hrh7E   \n101212  /LTTUwXyKNTlJUUmy/6YXU5icZNy5mWUEXQbp+Hrh7E   \n101488  /LTTUwXyKNTlJUUmy/6YXU5icZNy5mWUEXQbp+Hrh7E   \n106778  /LTTUwXyKNTlJUUmy/6YXU5icZNy5mWUEXQbp+Hrh7E   \n108608  /LTTUwXyKNTlJUUmy/6YXU5icZNy5mWUEXQbp+Hrh7E   \n174033  /LTTUwXyKNTlJUUmy/6YXU5icZNy5mWUEXQbp+Hrh7E   \n174034  /LTTUwXyKNTlJUUmy/6YXU5icZNy5mWUEXQbp+Hrh7E   \n174035  /LTTUwXyKNTlJUUmy/6YXU5icZNy5mWUEXQbp+Hrh7E   \n\n                                                eventId dateAmsterdam  \\\n59059                          kTEo5vCy7H6rbgE-YF1JOg.2    2022-11-06   \n75940                          lipWfXUMgkuHiVEolWVEvQ.2    2022-11-06   \n75941   lipWfXUMgkuHiVEolWVEvQ.rCQFZ48d1ylPHc7SKtdNIw_0    2022-11-06   \n92174                          mwkOkMHY7mqOfu2qmHFJSQ.2    2022-11-06   \n93159                          n-rGPDGIoIMFOeh-mNBFDw.2    2022-11-06   \n101212                         nbSBSWfPbqXx02UYYcZJPg.2    2022-11-06   \n101488                         ndPaLy9D8roZxitn2-xAkg.4    2022-11-06   \n106778                         o0yOzo7S0jS3cwPxhxhFnQ.4    2022-11-06   \n108608                         o9TyTRhReXmfnWCCoxVCEQ.4    2022-11-06   \n174033  t6PD8FxwUkGVNLTyKmZAJw.oOzAInUz8mM8ZcnzgsJBIQ_0    2022-11-06   \n174034                         t6PD8FxwUkGVNLTyKmZAJw.4    2022-11-06   \n174035  t6PD8FxwUkGVNLTyKmZAJw.gIKnMOtpEMur8487ZmVLtw_0    2022-11-06   \n\n                eventTimestamp  listPageNumber             containerId  \\\n59059  2022-11-06 16:08:17.471               1  kTEo5vCy7H6rbgE-YF1JOg   \n75940  2022-11-06 16:08:49.838               1  lipWfXUMgkuHiVEolWVEvQ   \n75941  2022-11-06 16:08:56.231               1  lipWfXUMgkuHiVEolWVEvQ   \n92174  2022-11-06 16:07:04.740               1  mwkOkMHY7mqOfu2qmHFJSQ   \n93159  2022-11-06 16:09:54.360               1  n-rGPDGIoIMFOeh-mNBFDw   \n101212 2022-11-06 16:10:35.937               1  nbSBSWfPbqXx02UYYcZJPg   \n101488 2022-11-06 16:10:58.981               1  ndPaLy9D8roZxitn2-xAkg   \n106778 2022-11-06 16:12:48.301               1  o0yOzo7S0jS3cwPxhxhFnQ   \n108608 2022-11-06 16:11:54.745               1  o9TyTRhReXmfnWCCoxVCEQ   \n174033 2022-11-06 16:13:09.715               1  t6PD8FxwUkGVNLTyKmZAJw   \n174034 2022-11-06 16:13:02.580               1  t6PD8FxwUkGVNLTyKmZAJw   \n174035 2022-11-06 16:13:41.311               1  t6PD8FxwUkGVNLTyKmZAJw   \n\n                  listSearchTyped listSearchCorrected  \\\n59059         macbook accessoires                None   \n75940                       apple                None   \n75941                       apple                None   \n92174                      drones               drone   \n93159                apple pencil                None   \n101212  apple accessoires macbook                None   \n101488                                           None   \n106778                                           None   \n108608                                           None   \n174033                                           None   \n174034                                           None   \n174035                                           None   \n\n                                                   hookId  \\\n59059                                                None   \n75940                                                None   \n75941                                                None   \n92174                                                None   \n93159                                                None   \n101212                                               None   \n101488                                               None   \n106778              o9TyTRhReXmfnWCCoxVCEQ.4_10.11.Banner   \n108608                                               None   \n174033  t6PD8FxwUkGVNLTyKmZAJw.4_10_12_13.18.RelevantF...   \n174034                                               None   \n174035                                               None   \n\n                                              listFilters categoryId  \\\n59059                                                  []       None   \n75940                                                  []       None   \n75941   [{'name': 'Rating slider', 'value': '3.5-5.5',...       None   \n92174                                                  []       None   \n93159                                                  []       None   \n101212                                                 []       None   \n101488                                                 []      38906   \n106778                                                 []       None   \n108608                                                 []       4041   \n174033  [{'name': 'Batterij capaciteit mAh', 'value': ...      18135   \n174034                                                 []      18135   \n174035  [{'name': 'Batterij capaciteit mAh', 'value': ...      18135   \n\n                                             categoryTree pageName  \n59059                                                  []   SEARCH  \n75940                                                  []   SEARCH  \n75941                                                  []   SEARCH  \n92174                                                  []   SEARCH  \n93159                                                  []   SEARCH  \n101212                                                 []   SEARCH  \n101488  [{'categoryId': '3135', 'categoryName': 'Games...      OHP  \n106778                                                 []       RA  \n108608  [{'categoryId': '3136', 'categoryName': 'Elekt...      OHP  \n174033  [{'categoryId': '3136', 'categoryName': 'Elekt...      OHP  \n174034  [{'categoryId': '3136', 'categoryName': 'Elekt...      OHP  \n174035  [{'categoryId': '3136', 'categoryName': 'Elekt...      OHP  ",
      "text/html": "<div>\n<style scoped>\n    .dataframe tbody tr th:only-of-type {\n        vertical-align: middle;\n    }\n\n    .dataframe tbody tr th {\n        vertical-align: top;\n    }\n\n    .dataframe thead th {\n        text-align: right;\n    }\n</style>\n<table border=\"1\" class=\"dataframe\">\n  <thead>\n    <tr style=\"text-align: right;\">\n      <th></th>\n      <th>_surragate_key</th>\n      <th>visitId</th>\n      <th>eventId</th>\n      <th>dateAmsterdam</th>\n      <th>eventTimestamp</th>\n      <th>listPageNumber</th>\n      <th>containerId</th>\n      <th>listSearchTyped</th>\n      <th>listSearchCorrected</th>\n      <th>hookId</th>\n      <th>listFilters</th>\n      <th>categoryId</th>\n      <th>categoryTree</th>\n      <th>pageName</th>\n    </tr>\n  </thead>\n  <tbody>\n    <tr>\n      <th>59059</th>\n      <td>806954e65dd654e605b6eb4997577ca1</td>\n      <td>/LTTUwXyKNTlJUUmy/6YXU5icZNy5mWUEXQbp+Hrh7E</td>\n      <td>kTEo5vCy7H6rbgE-YF1JOg.2</td>\n      <td>2022-11-06</td>\n      <td>2022-11-06 16:08:17.471</td>\n      <td>1</td>\n      <td>kTEo5vCy7H6rbgE-YF1JOg</td>\n      <td>macbook accessoires</td>\n      <td>None</td>\n      <td>None</td>\n      <td>[]</td>\n      <td>None</td>\n      <td>[]</td>\n      <td>SEARCH</td>\n    </tr>\n    <tr>\n      <th>75940</th>\n      <td>58db7cbd5adaa599b95bd114c8f7d6fe</td>\n      <td>/LTTUwXyKNTlJUUmy/6YXU5icZNy5mWUEXQbp+Hrh7E</td>\n      <td>lipWfXUMgkuHiVEolWVEvQ.2</td>\n      <td>2022-11-06</td>\n      <td>2022-11-06 16:08:49.838</td>\n      <td>1</td>\n      <td>lipWfXUMgkuHiVEolWVEvQ</td>\n      <td>apple</td>\n      <td>None</td>\n      <td>None</td>\n      <td>[]</td>\n      <td>None</td>\n      <td>[]</td>\n      <td>SEARCH</td>\n    </tr>\n    <tr>\n      <th>75941</th>\n      <td>ac0cd7bfd7283d6987bdde83be71c7db</td>\n      <td>/LTTUwXyKNTlJUUmy/6YXU5icZNy5mWUEXQbp+Hrh7E</td>\n      <td>lipWfXUMgkuHiVEolWVEvQ.rCQFZ48d1ylPHc7SKtdNIw_0</td>\n      <td>2022-11-06</td>\n      <td>2022-11-06 16:08:56.231</td>\n      <td>1</td>\n      <td>lipWfXUMgkuHiVEolWVEvQ</td>\n      <td>apple</td>\n      <td>None</td>\n      <td>None</td>\n      <td>[{'name': 'Rating slider', 'value': '3.5-5.5',...</td>\n      <td>None</td>\n      <td>[]</td>\n      <td>SEARCH</td>\n    </tr>\n    <tr>\n      <th>92174</th>\n      <td>858f3261b5ed721d88fe1be7e8c82736</td>\n      <td>/LTTUwXyKNTlJUUmy/6YXU5icZNy5mWUEXQbp+Hrh7E</td>\n      <td>mwkOkMHY7mqOfu2qmHFJSQ.2</td>\n      <td>2022-11-06</td>\n      <td>2022-11-06 16:07:04.740</td>\n      <td>1</td>\n      <td>mwkOkMHY7mqOfu2qmHFJSQ</td>\n      <td>drones</td>\n      <td>drone</td>\n      <td>None</td>\n      <td>[]</td>\n      <td>None</td>\n      <td>[]</td>\n      <td>SEARCH</td>\n    </tr>\n    <tr>\n      <th>93159</th>\n      <td>edb01eba9663435fe0e5e2cc1ec57faf</td>\n      <td>/LTTUwXyKNTlJUUmy/6YXU5icZNy5mWUEXQbp+Hrh7E</td>\n      <td>n-rGPDGIoIMFOeh-mNBFDw.2</td>\n      <td>2022-11-06</td>\n      <td>2022-11-06 16:09:54.360</td>\n      <td>1</td>\n      <td>n-rGPDGIoIMFOeh-mNBFDw</td>\n      <td>apple pencil</td>\n      <td>None</td>\n      <td>None</td>\n      <td>[]</td>\n      <td>None</td>\n      <td>[]</td>\n      <td>SEARCH</td>\n    </tr>\n    <tr>\n      <th>101212</th>\n      <td>095c1f89d725f706f3e61f74beb5d00d</td>\n      <td>/LTTUwXyKNTlJUUmy/6YXU5icZNy5mWUEXQbp+Hrh7E</td>\n      <td>nbSBSWfPbqXx02UYYcZJPg.2</td>\n      <td>2022-11-06</td>\n      <td>2022-11-06 16:10:35.937</td>\n      <td>1</td>\n      <td>nbSBSWfPbqXx02UYYcZJPg</td>\n      <td>apple accessoires macbook</td>\n      <td>None</td>\n      <td>None</td>\n      <td>[]</td>\n      <td>None</td>\n      <td>[]</td>\n      <td>SEARCH</td>\n    </tr>\n    <tr>\n      <th>101488</th>\n      <td>5a4d8a5d27aec5aa54c9ce935cfe69a1</td>\n      <td>/LTTUwXyKNTlJUUmy/6YXU5icZNy5mWUEXQbp+Hrh7E</td>\n      <td>ndPaLy9D8roZxitn2-xAkg.4</td>\n      <td>2022-11-06</td>\n      <td>2022-11-06 16:10:58.981</td>\n      <td>1</td>\n      <td>ndPaLy9D8roZxitn2-xAkg</td>\n      <td></td>\n      <td>None</td>\n      <td>None</td>\n      <td>[]</td>\n      <td>38906</td>\n      <td>[{'categoryId': '3135', 'categoryName': 'Games...</td>\n      <td>OHP</td>\n    </tr>\n    <tr>\n      <th>106778</th>\n      <td>0153790a05b992b359aa368c3015efdd</td>\n      <td>/LTTUwXyKNTlJUUmy/6YXU5icZNy5mWUEXQbp+Hrh7E</td>\n      <td>o0yOzo7S0jS3cwPxhxhFnQ.4</td>\n      <td>2022-11-06</td>\n      <td>2022-11-06 16:12:48.301</td>\n      <td>1</td>\n      <td>o0yOzo7S0jS3cwPxhxhFnQ</td>\n      <td></td>\n      <td>None</td>\n      <td>o9TyTRhReXmfnWCCoxVCEQ.4_10.11.Banner</td>\n      <td>[]</td>\n      <td>None</td>\n      <td>[]</td>\n      <td>RA</td>\n    </tr>\n    <tr>\n      <th>108608</th>\n      <td>fcd0e4f4add4b8988aeb6523cee4c670</td>\n      <td>/LTTUwXyKNTlJUUmy/6YXU5icZNy5mWUEXQbp+Hrh7E</td>\n      <td>o9TyTRhReXmfnWCCoxVCEQ.4</td>\n      <td>2022-11-06</td>\n      <td>2022-11-06 16:11:54.745</td>\n      <td>1</td>\n      <td>o9TyTRhReXmfnWCCoxVCEQ</td>\n      <td></td>\n      <td>None</td>\n      <td>None</td>\n      <td>[]</td>\n      <td>4041</td>\n      <td>[{'categoryId': '3136', 'categoryName': 'Elekt...</td>\n      <td>OHP</td>\n    </tr>\n    <tr>\n      <th>174033</th>\n      <td>6b0fb0d725b65da269e2f85ec084c9ef</td>\n      <td>/LTTUwXyKNTlJUUmy/6YXU5icZNy5mWUEXQbp+Hrh7E</td>\n      <td>t6PD8FxwUkGVNLTyKmZAJw.oOzAInUz8mM8ZcnzgsJBIQ_0</td>\n      <td>2022-11-06</td>\n      <td>2022-11-06 16:13:09.715</td>\n      <td>1</td>\n      <td>t6PD8FxwUkGVNLTyKmZAJw</td>\n      <td></td>\n      <td>None</td>\n      <td>t6PD8FxwUkGVNLTyKmZAJw.4_10_12_13.18.RelevantF...</td>\n      <td>[{'name': 'Batterij capaciteit mAh', 'value': ...</td>\n      <td>18135</td>\n      <td>[{'categoryId': '3136', 'categoryName': 'Elekt...</td>\n      <td>OHP</td>\n    </tr>\n    <tr>\n      <th>174034</th>\n      <td>1664c1d7dcea5bbaaf09d00b6f7a5da8</td>\n      <td>/LTTUwXyKNTlJUUmy/6YXU5icZNy5mWUEXQbp+Hrh7E</td>\n      <td>t6PD8FxwUkGVNLTyKmZAJw.4</td>\n      <td>2022-11-06</td>\n      <td>2022-11-06 16:13:02.580</td>\n      <td>1</td>\n      <td>t6PD8FxwUkGVNLTyKmZAJw</td>\n      <td></td>\n      <td>None</td>\n      <td>None</td>\n      <td>[]</td>\n      <td>18135</td>\n      <td>[{'categoryId': '3136', 'categoryName': 'Elekt...</td>\n      <td>OHP</td>\n    </tr>\n    <tr>\n      <th>174035</th>\n      <td>08b3e6d4696e7d0bbf48a8b4734c7a38</td>\n      <td>/LTTUwXyKNTlJUUmy/6YXU5icZNy5mWUEXQbp+Hrh7E</td>\n      <td>t6PD8FxwUkGVNLTyKmZAJw.gIKnMOtpEMur8487ZmVLtw_0</td>\n      <td>2022-11-06</td>\n      <td>2022-11-06 16:13:41.311</td>\n      <td>1</td>\n      <td>t6PD8FxwUkGVNLTyKmZAJw</td>\n      <td></td>\n      <td>None</td>\n      <td>None</td>\n      <td>[{'name': 'Batterij capaciteit mAh', 'value': ...</td>\n      <td>18135</td>\n      <td>[{'categoryId': '3136', 'categoryName': 'Elekt...</td>\n      <td>OHP</td>\n    </tr>\n  </tbody>\n</table>\n</div>"
     },
     "execution_count": 32,
     "metadata": {},
     "output_type": "execute_result"
    }
   ],
   "source": [
    "# as an example, i'm able to look at one random visitId and all their related search activity\n",
    "listpages_named[listpages_named['visitId'] == '/LTTUwXyKNTlJUUmy/6YXU5icZNy5mWUEXQbp+Hrh7E']\n"
   ],
   "metadata": {
    "collapsed": false,
    "ExecuteTime": {
     "end_time": "2023-11-21T13:20:22.185036Z",
     "start_time": "2023-11-21T13:20:22.172380Z"
    }
   },
   "id": "3d087ab46cf6802d"
  },
  {
   "cell_type": "code",
   "execution_count": null,
   "outputs": [],
   "source": [],
   "metadata": {
    "collapsed": false
   },
   "id": "6b6c594f17b220b1"
  }
 ],
 "metadata": {
  "kernelspec": {
   "display_name": "Python 3",
   "language": "python",
   "name": "python3"
  },
  "language_info": {
   "codemirror_mode": {
    "name": "ipython",
    "version": 2
   },
   "file_extension": ".py",
   "mimetype": "text/x-python",
   "name": "python",
   "nbconvert_exporter": "python",
   "pygments_lexer": "ipython2",
   "version": "2.7.6"
  }
 },
 "nbformat": 4,
 "nbformat_minor": 5
}
