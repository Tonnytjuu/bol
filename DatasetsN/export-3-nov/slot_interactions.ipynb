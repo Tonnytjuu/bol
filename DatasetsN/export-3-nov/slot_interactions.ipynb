{
 "cells": [
  {
   "cell_type": "markdown",
   "source": [
    "# Load slot interactions\n",
    "\n",
    "This dataset was to big to export to a single Parque, so you're receiving a multipart file.\n",
    " \n",
    "**Important: pass the directory path to pandas**"
   ],
   "metadata": {
    "collapsed": false
   },
   "id": "c9cf72125d8d6cbb"
  },
  {
   "cell_type": "code",
   "execution_count": 1,
   "outputs": [
    {
     "data": {
      "text/plain": "                                             visitId          eventTimestamp  \\\n2498516  v06q/sq9/m0T3eJAtY8+aqwCP5zW+P7SmtROQIOvTnw 2022-11-10 02:17:17.505   \n\n                            groupId pageName       groupType       groupName  \\\n2498516  gOh2cxmX0UZIobhFlXVLEw.2_7      PDP  product-images  product-images   \n\n             groupTitle  hasView  hasClick  isWebsite  isAndroid  isIOS  \n2498516  product-images    False     False          1          0      0  ",
      "text/html": "<div>\n<style scoped>\n    .dataframe tbody tr th:only-of-type {\n        vertical-align: middle;\n    }\n\n    .dataframe tbody tr th {\n        vertical-align: top;\n    }\n\n    .dataframe thead th {\n        text-align: right;\n    }\n</style>\n<table border=\"1\" class=\"dataframe\">\n  <thead>\n    <tr style=\"text-align: right;\">\n      <th></th>\n      <th>visitId</th>\n      <th>eventTimestamp</th>\n      <th>groupId</th>\n      <th>pageName</th>\n      <th>groupType</th>\n      <th>groupName</th>\n      <th>groupTitle</th>\n      <th>hasView</th>\n      <th>hasClick</th>\n      <th>isWebsite</th>\n      <th>isAndroid</th>\n      <th>isIOS</th>\n    </tr>\n  </thead>\n  <tbody>\n    <tr>\n      <th>2498516</th>\n      <td>v06q/sq9/m0T3eJAtY8+aqwCP5zW+P7SmtROQIOvTnw</td>\n      <td>2022-11-10 02:17:17.505</td>\n      <td>gOh2cxmX0UZIobhFlXVLEw.2_7</td>\n      <td>PDP</td>\n      <td>product-images</td>\n      <td>product-images</td>\n      <td>product-images</td>\n      <td>False</td>\n      <td>False</td>\n      <td>1</td>\n      <td>0</td>\n      <td>0</td>\n    </tr>\n  </tbody>\n</table>\n</div>"
     },
     "execution_count": 1,
     "metadata": {},
     "output_type": "execute_result"
    }
   ],
   "source": [
    "import pandas as pd\n",
    "slots = pd.read_parquet('./fct_slot_interaction/')\n",
    "slots.sample()"
   ],
   "metadata": {
    "collapsed": false,
    "ExecuteTime": {
     "end_time": "2023-11-03T12:50:06.768742Z",
     "start_time": "2023-11-03T12:50:00.217811Z"
    }
   },
   "id": "24db8b0f591b5f44"
  },
  {
   "cell_type": "code",
   "execution_count": 2,
   "outputs": [
    {
     "data": {
      "text/plain": "visitId           string[python]\neventTimestamp    datetime64[ns]\ngroupId           string[python]\npageName          string[python]\ngroupType         string[python]\ngroupName         string[python]\ngroupTitle        string[python]\nhasView                  boolean\nhasClick                 boolean\nisWebsite                  Int64\nisAndroid                  Int64\nisIOS                      Int64\ndtype: object"
     },
     "execution_count": 2,
     "metadata": {},
     "output_type": "execute_result"
    }
   ],
   "source": [
    "slots = slots.convert_dtypes()\n",
    "slots['eventTimestamp'] = pd.to_datetime(slots['eventTimestamp'])\n",
    "slots.dtypes"
   ],
   "metadata": {
    "collapsed": false,
    "ExecuteTime": {
     "end_time": "2023-11-03T12:51:41.923280Z",
     "start_time": "2023-11-03T12:51:39.340665Z"
    }
   },
   "id": "bf870bd0d9fc375e"
  },
  {
   "cell_type": "markdown",
   "source": [
    "# Groups vs Slots\n",
    "\n",
    "groups is the technical name in the dataset, while most people business or product call it \"slots\".\n",
    "\n",
    "You can inspect the html of the www.bol.com website to find attributes of these groups as well.\n",
    "```\n",
    "<div class=\"feature u-1/1\" data-group-name=\"Carousel\" data-bltgg=\"q8WT3MTHhsyz-ro6-SVBfw.16_17\">\n",
    "   Contens go here\n",
    "</div>\n",
    "```\n",
    "\n",
    "So two things you see:\n",
    "1. the div attribute `\"data-grou-name\"` attribute which is the groupType or groupName in the dataset.\n",
    "2. the `\"data-bltgg\"` which stands for bol tag group. The groupId's are unique generated in the App, but in Web sometimes 16_17 means it's a 16th group on the page, with another group in it, nr 17. The groups on a given pageName will not always have the same number of groups or layout, so it won't be reliable enough for you to perform lookups against the pages. But it might match in some cases.\n",
    "\n",
    "I hope this helps you to identify how the groups in the dataset look like in the site.\n",
    "\n",
    "# hasView and hasClick\n",
    "\n",
    "These are boolean fields, you should be able to see that the groupId of rows which are `hasClick = True` match the prefix of the hookId in the `fct_page_view_nl` dataset. \n",
    "So in short, the slot_interaction dataset can tell you which exact slot was interacted with, and which slots were in the viewport of the device (browser or app).\n",
    "\n",
    "### View definition\n",
    "\n",
    "View events to denote that a certain container or item has been viewed by a user. Compared to render measurements, that are generated when a render event has taken place, view measurements mean that the user actually saw the page/screen or item in question.\n",
    "\n",
    "A view event follows these rules:\n",
    "Only items and containers can be in view. View events for groups do not exist.\n",
    "An item is considered in view, only when both of the following are true:\n",
    "\n",
    "* 50% or more of the item is in the viewport\n",
    "* the item has been in the viewport for 1 second or longer\n",
    "\n",
    "### Item\n",
    "\n",
    "an item is also tagged in the html, like:\n",
    "\n",
    "```\n",
    "<div data-bltgid=\"q8WT3MTHhsyz-ro6-SVBfw.16_17_18.19\"><can be anything /></div>\n",
    "```\n",
    "\n",
    "### Caveats\n",
    "\n",
    "In this dataset when a certain groupType, for example \"sponsored-products\", hasView == True, it means the group contained one or more items that were received a \"view\" event on.\n",
    "\n",
    "Certain groups you find on the website might never receive a view, because they don't have tagging on item level. This is the case for the navigation bar. So that would not show up in this dataset."
   ],
   "metadata": {
    "collapsed": false
   },
   "id": "81e49b56b91c4e4b"
  }
 ],
 "metadata": {
  "kernelspec": {
   "display_name": "Python 3",
   "language": "python",
   "name": "python3"
  },
  "language_info": {
   "codemirror_mode": {
    "name": "ipython",
    "version": 2
   },
   "file_extension": ".py",
   "mimetype": "text/x-python",
   "name": "python",
   "nbconvert_exporter": "python",
   "pygments_lexer": "ipython2",
   "version": "2.7.6"
  }
 },
 "nbformat": 4,
 "nbformat_minor": 5
}
