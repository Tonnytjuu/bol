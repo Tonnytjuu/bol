{
 "cells": [
  {
   "cell_type": "code",
   "execution_count": 1,
   "id": "initial_id",
   "metadata": {
    "tags": [],
    "ExecuteTime": {
     "end_time": "2023-12-09T10:25:06.960668Z",
     "start_time": "2023-12-09T10:25:06.696726Z"
    }
   },
   "outputs": [],
   "source": [
    "import pandas as pd\n",
    "import numpy as np"
   ]
  },
  {
   "cell_type": "markdown",
   "id": "e7385bbd73dafd5",
   "metadata": {},
   "source": [
    "## Loading the parque files\n"
   ]
  },
  {
   "cell_type": "code",
   "execution_count": 2,
   "id": "734d8364-d925-401a-9e84-6e88a3e9a7be",
   "metadata": {
    "ExecuteTime": {
     "end_time": "2023-12-09T10:25:09.288731Z",
     "start_time": "2023-12-09T10:25:09.280646Z"
    }
   },
   "outputs": [],
   "source": [
    "#import os\n",
    "#os.getcwd()"
   ]
  },
  {
   "cell_type": "code",
   "execution_count": 3,
   "id": "2bb4911ccd33b6",
   "metadata": {
    "collapsed": false,
    "ExecuteTime": {
     "end_time": "2023-12-09T10:25:10.496683Z",
     "start_time": "2023-12-09T10:25:09.719021Z"
    }
   },
   "outputs": [
    {
     "data": {
      "text/plain": "                     _surrogate_key dateAmsterdam          eventTimestamp  \\\n0  bc6c663d8987017154a859a3d60e00ba    2022-11-06 2022-11-06 16:25:29.898   \n1  67f4edd1c0997a3131e2e0b6fcb08c8d    2022-11-06 2022-11-06 16:12:48.301   \n2  82551fd0570e41e9903b63d74a90d85d    2022-11-06 2022-11-06 20:35:14.848   \n3  d375b023dd4f79ebadd044d6a3055760    2022-11-06 2022-11-06 21:00:49.837   \n4  55dd5a271c225756560d805a83714632    2022-11-06 2022-11-06 12:10:58.158   \n\n                  eventId pageName                                  hookId  \\\n0  h9K-7q4Rx4Ognl3IkFxNJw       RA                                    None   \n1  o0yOzo7S0jS3cwPxhxhFnQ       RA   o9TyTRhReXmfnWCCoxVCEQ.4_10.11.Banner   \n2  lXcQHWOKj-eqm5OumhtIQQ       RA     iQrm94vMJLtJowlVJHBPwQ.5_8.9.Banner   \n3  nPzVqpKKJ5xUTJEXlo5Faw       RA  iKfP-nFesQu7W90sMM5CTg.43_50.51.Banner   \n4  q5zymTbPTpiZ1dcb0k1PYg       RA   jah--Wmy4OQGorwng7NO1Q.4_10.11.Banner   \n\n                                       visitId  isWebsite  isAndroid  isIOS  \n0  +B/A5vuJu0CzjZpdnTnjmUrEb8CgZQtg/ammnrmRk/0          1          0      0  \n1  /LTTUwXyKNTlJUUmy/6YXU5icZNy5mWUEXQbp+Hrh7E          1          0      0  \n2  0l9HX7jbGdA/RgKc8bwfUMHjolcq6gj0s+/mffPhu6Y          1          0      0  \n3  0tlyA2jn2G//z1iW2AXOhymd53nQlDK8DRJ11Q10lqA          1          0      0  \n4  1bG0AB3f4OW1g2fh/hseLfJALg2VLGWw6/8x4QbIVUE          1          0      0  ",
      "text/html": "<div>\n<style scoped>\n    .dataframe tbody tr th:only-of-type {\n        vertical-align: middle;\n    }\n\n    .dataframe tbody tr th {\n        vertical-align: top;\n    }\n\n    .dataframe thead th {\n        text-align: right;\n    }\n</style>\n<table border=\"1\" class=\"dataframe\">\n  <thead>\n    <tr style=\"text-align: right;\">\n      <th></th>\n      <th>_surrogate_key</th>\n      <th>dateAmsterdam</th>\n      <th>eventTimestamp</th>\n      <th>eventId</th>\n      <th>pageName</th>\n      <th>hookId</th>\n      <th>visitId</th>\n      <th>isWebsite</th>\n      <th>isAndroid</th>\n      <th>isIOS</th>\n    </tr>\n  </thead>\n  <tbody>\n    <tr>\n      <th>0</th>\n      <td>bc6c663d8987017154a859a3d60e00ba</td>\n      <td>2022-11-06</td>\n      <td>2022-11-06 16:25:29.898</td>\n      <td>h9K-7q4Rx4Ognl3IkFxNJw</td>\n      <td>RA</td>\n      <td>None</td>\n      <td>+B/A5vuJu0CzjZpdnTnjmUrEb8CgZQtg/ammnrmRk/0</td>\n      <td>1</td>\n      <td>0</td>\n      <td>0</td>\n    </tr>\n    <tr>\n      <th>1</th>\n      <td>67f4edd1c0997a3131e2e0b6fcb08c8d</td>\n      <td>2022-11-06</td>\n      <td>2022-11-06 16:12:48.301</td>\n      <td>o0yOzo7S0jS3cwPxhxhFnQ</td>\n      <td>RA</td>\n      <td>o9TyTRhReXmfnWCCoxVCEQ.4_10.11.Banner</td>\n      <td>/LTTUwXyKNTlJUUmy/6YXU5icZNy5mWUEXQbp+Hrh7E</td>\n      <td>1</td>\n      <td>0</td>\n      <td>0</td>\n    </tr>\n    <tr>\n      <th>2</th>\n      <td>82551fd0570e41e9903b63d74a90d85d</td>\n      <td>2022-11-06</td>\n      <td>2022-11-06 20:35:14.848</td>\n      <td>lXcQHWOKj-eqm5OumhtIQQ</td>\n      <td>RA</td>\n      <td>iQrm94vMJLtJowlVJHBPwQ.5_8.9.Banner</td>\n      <td>0l9HX7jbGdA/RgKc8bwfUMHjolcq6gj0s+/mffPhu6Y</td>\n      <td>1</td>\n      <td>0</td>\n      <td>0</td>\n    </tr>\n    <tr>\n      <th>3</th>\n      <td>d375b023dd4f79ebadd044d6a3055760</td>\n      <td>2022-11-06</td>\n      <td>2022-11-06 21:00:49.837</td>\n      <td>nPzVqpKKJ5xUTJEXlo5Faw</td>\n      <td>RA</td>\n      <td>iKfP-nFesQu7W90sMM5CTg.43_50.51.Banner</td>\n      <td>0tlyA2jn2G//z1iW2AXOhymd53nQlDK8DRJ11Q10lqA</td>\n      <td>1</td>\n      <td>0</td>\n      <td>0</td>\n    </tr>\n    <tr>\n      <th>4</th>\n      <td>55dd5a271c225756560d805a83714632</td>\n      <td>2022-11-06</td>\n      <td>2022-11-06 12:10:58.158</td>\n      <td>q5zymTbPTpiZ1dcb0k1PYg</td>\n      <td>RA</td>\n      <td>jah--Wmy4OQGorwng7NO1Q.4_10.11.Banner</td>\n      <td>1bG0AB3f4OW1g2fh/hseLfJALg2VLGWw6/8x4QbIVUE</td>\n      <td>1</td>\n      <td>0</td>\n      <td>0</td>\n    </tr>\n  </tbody>\n</table>\n</div>"
     },
     "execution_count": 3,
     "metadata": {},
     "output_type": "execute_result"
    }
   ],
   "source": [
    "pageview = pd.read_parquet('data/fct_page_view_nl.parque')\n",
    "pageview.head()"
   ]
  },
  {
   "cell_type": "code",
   "execution_count": 4,
   "id": "3d27990c-b348-4f8f-9342-508ea4abc576",
   "metadata": {
    "ExecuteTime": {
     "end_time": "2023-12-09T10:25:28.686324Z",
     "start_time": "2023-12-09T10:25:28.680045Z"
    }
   },
   "outputs": [
    {
     "data": {
      "text/plain": "692754"
     },
     "execution_count": 4,
     "metadata": {},
     "output_type": "execute_result"
    }
   ],
   "source": [
    "len(pageview)"
   ]
  },
  {
   "cell_type": "markdown",
   "id": "33336fe6-942b-4b25-8222-cda9956d1cd1",
   "metadata": {},
   "source": [
    "<font color=\"red\"> ------------------------------------  My own comments --------------------------------------</font>\n",
    "\n",
    "#### `pageview`: Each row represents a specific page view event.\n",
    "\n",
    "- `_surrogate_key`: A unique identifier for the record.\n",
    "- `dateAmsterdam`: The date on which the event occurred, specific to Amsterdam's timezone.\n",
    "- `eventTimestamp`: The exact time when the event took place.\n",
    "- `eventId`: Unique identifier for the page view event.\n",
    "- `pageName`: Denotes the type/name of the page that was viewed.\n",
    "- `hookId`: Likely some identifier for banners or promotional material.\n",
    "- `visitId`: Identifier for a specific visit/session. This ID is created on the first event and expires after 30 minutes of inactivity (with a maximum length of 12 hours).\n",
    "- `isWebsite`, `isAndroid`, `isIOS`: Boolean flags indicating the platform through which the page was accessed.\n",
    "\n",
    "<font color=\"red\"> ---------------------------------------------------------------------------------------------</font>\n"
   ]
  },
  {
   "cell_type": "code",
   "execution_count": 5,
   "id": "a60a20a3-81a5-4673-9783-17b9d77a693e",
   "metadata": {
    "ExecuteTime": {
     "end_time": "2023-12-09T10:25:29.749987Z",
     "start_time": "2023-12-09T10:25:29.099012Z"
    }
   },
   "outputs": [
    {
     "data": {
      "text/plain": "                     _surragate_key  \\\n0  35d6b8160d274b7d26c7e1312e91916a   \n1  5695e991081cbfd4092da453723e82ea   \n2  2f89c1625d383be78725ea43e1be3728   \n3  a5ac7cbd077045d0c37057071e074247   \n4  78f961aeeef2764e67a34445894dc054   \n\n                                       visitId  \\\n0  ub71TeL1gI0dFZJLpaqYYkKlXiAgeR1jSmspQ0zqsjU   \n1  PQjCXNeJffzL142huu6F0aOxW1qQLvUsrAm5KOgzwOo   \n2  9y7h0G2YnvQAI8M4mOasDMphNd4PCVpKRluKWpb8Buk   \n3  wX4Toy56wUrgxjpBF5XhDyQLTuFYIXqwVE6QhkDL3Yo   \n4  P1QNHY7Wog4L3PnONDzcdYlm1t+HL8SGnnZoHyrOIZE   \n\n                                           eventId dateAmsterdam  \\\n0                         qs1RxwwQtek901tf-GNGug.3    2022-11-04   \n1                         nunNQmMIZrKo5TZiIp1PBw.3    2022-11-04   \n2  sfHchs4mxH4P-imTDcZAwA.u9qrje3iwli7GQSxaRNOqQ_0    2022-11-04   \n3  irOFKBicAp2ffNxgiYVH6g.hT0nkbnNlc-BvaNhECNIAg_0    2022-11-04   \n4  hmstnU-5CIg3FEaMUcxHVA.s8HTpkzy2dAG2-K6LbJGeQ_0    2022-11-04   \n\n           eventTimestamp  listPageNumber             containerId  \\\n0 2022-11-04 17:24:14.341               1  qs1RxwwQtek901tf-GNGug   \n1 2022-11-04 07:48:28.202               1  nunNQmMIZrKo5TZiIp1PBw   \n2 2022-11-04 11:28:41.240               4  sfHchs4mxH4P-imTDcZAwA   \n3 2022-11-04 07:10:02.815               2  irOFKBicAp2ffNxgiYVH6g   \n4 2022-11-04 20:42:09.439               4  hmstnU-5CIg3FEaMUcxHVA   \n\n  listSearchTyped listSearchCorrected                               hookId  \\\n0                                None                                 None   \n1                                None  oOa6NP5hlKbNsxPI2c5BVA.3_7.8.Banner   \n2                                None                                 None   \n3                                None                                 None   \n4                                None                                 None   \n\n  listFilters categoryId categoryTree  \n0          []       None           []  \n1          []       None           []  \n2          []       None           []  \n3          []       None           []  \n4          []       None           []  ",
      "text/html": "<div>\n<style scoped>\n    .dataframe tbody tr th:only-of-type {\n        vertical-align: middle;\n    }\n\n    .dataframe tbody tr th {\n        vertical-align: top;\n    }\n\n    .dataframe thead th {\n        text-align: right;\n    }\n</style>\n<table border=\"1\" class=\"dataframe\">\n  <thead>\n    <tr style=\"text-align: right;\">\n      <th></th>\n      <th>_surragate_key</th>\n      <th>visitId</th>\n      <th>eventId</th>\n      <th>dateAmsterdam</th>\n      <th>eventTimestamp</th>\n      <th>listPageNumber</th>\n      <th>containerId</th>\n      <th>listSearchTyped</th>\n      <th>listSearchCorrected</th>\n      <th>hookId</th>\n      <th>listFilters</th>\n      <th>categoryId</th>\n      <th>categoryTree</th>\n    </tr>\n  </thead>\n  <tbody>\n    <tr>\n      <th>0</th>\n      <td>35d6b8160d274b7d26c7e1312e91916a</td>\n      <td>ub71TeL1gI0dFZJLpaqYYkKlXiAgeR1jSmspQ0zqsjU</td>\n      <td>qs1RxwwQtek901tf-GNGug.3</td>\n      <td>2022-11-04</td>\n      <td>2022-11-04 17:24:14.341</td>\n      <td>1</td>\n      <td>qs1RxwwQtek901tf-GNGug</td>\n      <td></td>\n      <td>None</td>\n      <td>None</td>\n      <td>[]</td>\n      <td>None</td>\n      <td>[]</td>\n    </tr>\n    <tr>\n      <th>1</th>\n      <td>5695e991081cbfd4092da453723e82ea</td>\n      <td>PQjCXNeJffzL142huu6F0aOxW1qQLvUsrAm5KOgzwOo</td>\n      <td>nunNQmMIZrKo5TZiIp1PBw.3</td>\n      <td>2022-11-04</td>\n      <td>2022-11-04 07:48:28.202</td>\n      <td>1</td>\n      <td>nunNQmMIZrKo5TZiIp1PBw</td>\n      <td></td>\n      <td>None</td>\n      <td>oOa6NP5hlKbNsxPI2c5BVA.3_7.8.Banner</td>\n      <td>[]</td>\n      <td>None</td>\n      <td>[]</td>\n    </tr>\n    <tr>\n      <th>2</th>\n      <td>2f89c1625d383be78725ea43e1be3728</td>\n      <td>9y7h0G2YnvQAI8M4mOasDMphNd4PCVpKRluKWpb8Buk</td>\n      <td>sfHchs4mxH4P-imTDcZAwA.u9qrje3iwli7GQSxaRNOqQ_0</td>\n      <td>2022-11-04</td>\n      <td>2022-11-04 11:28:41.240</td>\n      <td>4</td>\n      <td>sfHchs4mxH4P-imTDcZAwA</td>\n      <td></td>\n      <td>None</td>\n      <td>None</td>\n      <td>[]</td>\n      <td>None</td>\n      <td>[]</td>\n    </tr>\n    <tr>\n      <th>3</th>\n      <td>a5ac7cbd077045d0c37057071e074247</td>\n      <td>wX4Toy56wUrgxjpBF5XhDyQLTuFYIXqwVE6QhkDL3Yo</td>\n      <td>irOFKBicAp2ffNxgiYVH6g.hT0nkbnNlc-BvaNhECNIAg_0</td>\n      <td>2022-11-04</td>\n      <td>2022-11-04 07:10:02.815</td>\n      <td>2</td>\n      <td>irOFKBicAp2ffNxgiYVH6g</td>\n      <td></td>\n      <td>None</td>\n      <td>None</td>\n      <td>[]</td>\n      <td>None</td>\n      <td>[]</td>\n    </tr>\n    <tr>\n      <th>4</th>\n      <td>78f961aeeef2764e67a34445894dc054</td>\n      <td>P1QNHY7Wog4L3PnONDzcdYlm1t+HL8SGnnZoHyrOIZE</td>\n      <td>hmstnU-5CIg3FEaMUcxHVA.s8HTpkzy2dAG2-K6LbJGeQ_0</td>\n      <td>2022-11-04</td>\n      <td>2022-11-04 20:42:09.439</td>\n      <td>4</td>\n      <td>hmstnU-5CIg3FEaMUcxHVA</td>\n      <td></td>\n      <td>None</td>\n      <td>None</td>\n      <td>[]</td>\n      <td>None</td>\n      <td>[]</td>\n    </tr>\n  </tbody>\n</table>\n</div>"
     },
     "execution_count": 5,
     "metadata": {},
     "output_type": "execute_result"
    }
   ],
   "source": [
    "listpages = pd.read_parquet('data/nov_fct_list_pages.parque')\n",
    "listpages.head()"
   ]
  },
  {
   "cell_type": "markdown",
   "id": "a1673df718b9ea54",
   "metadata": {},
   "source": [
    "## Structure of the data\n",
    "\n",
    "### data subjects\n",
    "\n",
    "This dataset is only including certain visitIds that are part of a so called A/A, test was performed to create a dataset that can be analyzed. The randomization took place on deviceId.\n",
    "\n",
    "You can join the pageviews back to the `dim_ab_subjects_limited.parque` to find deviceIds or customerIds with multiple visitIds. This way, you are able to create a mapping of behavior and returning visits.\n",
    "\n",
    "* a **visitId** is created on the first event, and <u>expires after 30 minutes of inactivity</u> with a max length of 12 hours. \n",
    "* a **deviceId** is an identifier consistent over long period of time (cookie expiry on this is set to the maximum of 12 years, but its likely cleared more often by browser clients).\n",
    "* a <font color=green>**customerId**</font> is only present when the user is logged in, the deviceId is always present."
   ]
  },
  {
   "cell_type": "code",
   "execution_count": 6,
   "id": "8a8a77ccbbf40b8",
   "metadata": {
    "collapsed": false,
    "ExecuteTime": {
     "end_time": "2023-12-09T10:25:29.855680Z",
     "start_time": "2023-12-09T10:25:29.750888Z"
    }
   },
   "outputs": [
    {
     "data": {
      "text/plain": "  dateAmsterdam          eventTimestamp  \\\n0    2022-10-24 2022-10-24 09:28:12.512   \n1    2022-10-24 2022-10-24 12:46:56.666   \n2    2022-10-24 2022-10-24 17:49:55.704   \n3    2022-10-24 2022-10-24 09:27:24.959   \n4    2022-10-24 2022-10-24 10:29:12.853   \n\n                                       visitId  \\\n0  Nq4gvyoAvmStiEOA20VdigA0YHvDbU8oMpkhuD4uAn4   \n1  CkGf5DqVccFyJQrBYGutRfGcZ7iVTNurN0/Za1YijGg   \n2  2FfWUNvmBA7dRauIJ9hbMraDaEQvo88hYODH/4yPRVs   \n3  I31IChTEh6WYT4+NnTkUxTIXDeG7FrNDy6IH2zwL8Ro   \n4  neAv1Ja7Qwe7hUTk46/nt6eX+URthgCWclw6qBxw0iY   \n\n                                          customerId  \\\n0  b'\\xd8F\\xc9\\x1fxB\\xd5\\xe6L\\x9d\\xbc\\x9f1\\x06\\x8...   \n1  b'My\\x1b\\xef\\xf3\\xd1\\x94r\\x9f\\xdb\\xb3V\\xa6\\xc2...   \n2  b'\\xde0[v>\\x82\\xc2\\x82j\\xf0\\xe5\\n\\xfb\\xf05*\\xe...   \n3  b\"F5\\xcc\\x95P[\\xcc\\xa1\\xef6\\xa4\\xd8j\\x8d\\xe7j\\...   \n4  b'A2`\\n\\x18\\x06\\xac\\xc1\\xd5p\\x80\\x9b\\xfa\\xb6\\x...   \n\n                                            deviceId  \n0  b'\\xbe\\x8c\\xc0[@\\xcd\\x8a\\xd4\\x93\\x8eW\\x06[\\xb9...  \n1  b'.Ld-1\\xbfXDye\\x14\\xab\\'\\x97\\x13\\x96\\x8c7\\xd0...  \n2  b'\\xca A^O\\xfd\\x847,5jm\\x11\\xd1Y:\\xc2j5^\\x1bB\\...  \n3  b\"\\xb6\\xed\\xf3W\\x0f\\x04FPtX\\xa3\\xf9\\xee\\x99`\\x...  \n4  b'\\x8bc\\x05=/\\xecAWgoT :b\\xc3\\xc2U\\xe7f\\x05\\x8...  ",
      "text/html": "<div>\n<style scoped>\n    .dataframe tbody tr th:only-of-type {\n        vertical-align: middle;\n    }\n\n    .dataframe tbody tr th {\n        vertical-align: top;\n    }\n\n    .dataframe thead th {\n        text-align: right;\n    }\n</style>\n<table border=\"1\" class=\"dataframe\">\n  <thead>\n    <tr style=\"text-align: right;\">\n      <th></th>\n      <th>dateAmsterdam</th>\n      <th>eventTimestamp</th>\n      <th>visitId</th>\n      <th>customerId</th>\n      <th>deviceId</th>\n    </tr>\n  </thead>\n  <tbody>\n    <tr>\n      <th>0</th>\n      <td>2022-10-24</td>\n      <td>2022-10-24 09:28:12.512</td>\n      <td>Nq4gvyoAvmStiEOA20VdigA0YHvDbU8oMpkhuD4uAn4</td>\n      <td>b'\\xd8F\\xc9\\x1fxB\\xd5\\xe6L\\x9d\\xbc\\x9f1\\x06\\x8...</td>\n      <td>b'\\xbe\\x8c\\xc0[@\\xcd\\x8a\\xd4\\x93\\x8eW\\x06[\\xb9...</td>\n    </tr>\n    <tr>\n      <th>1</th>\n      <td>2022-10-24</td>\n      <td>2022-10-24 12:46:56.666</td>\n      <td>CkGf5DqVccFyJQrBYGutRfGcZ7iVTNurN0/Za1YijGg</td>\n      <td>b'My\\x1b\\xef\\xf3\\xd1\\x94r\\x9f\\xdb\\xb3V\\xa6\\xc2...</td>\n      <td>b'.Ld-1\\xbfXDye\\x14\\xab\\'\\x97\\x13\\x96\\x8c7\\xd0...</td>\n    </tr>\n    <tr>\n      <th>2</th>\n      <td>2022-10-24</td>\n      <td>2022-10-24 17:49:55.704</td>\n      <td>2FfWUNvmBA7dRauIJ9hbMraDaEQvo88hYODH/4yPRVs</td>\n      <td>b'\\xde0[v&gt;\\x82\\xc2\\x82j\\xf0\\xe5\\n\\xfb\\xf05*\\xe...</td>\n      <td>b'\\xca A^O\\xfd\\x847,5jm\\x11\\xd1Y:\\xc2j5^\\x1bB\\...</td>\n    </tr>\n    <tr>\n      <th>3</th>\n      <td>2022-10-24</td>\n      <td>2022-10-24 09:27:24.959</td>\n      <td>I31IChTEh6WYT4+NnTkUxTIXDeG7FrNDy6IH2zwL8Ro</td>\n      <td>b\"F5\\xcc\\x95P[\\xcc\\xa1\\xef6\\xa4\\xd8j\\x8d\\xe7j\\...</td>\n      <td>b\"\\xb6\\xed\\xf3W\\x0f\\x04FPtX\\xa3\\xf9\\xee\\x99`\\x...</td>\n    </tr>\n    <tr>\n      <th>4</th>\n      <td>2022-10-24</td>\n      <td>2022-10-24 10:29:12.853</td>\n      <td>neAv1Ja7Qwe7hUTk46/nt6eX+URthgCWclw6qBxw0iY</td>\n      <td>b'A2`\\n\\x18\\x06\\xac\\xc1\\xd5p\\x80\\x9b\\xfa\\xb6\\x...</td>\n      <td>b'\\x8bc\\x05=/\\xecAWgoT :b\\xc3\\xc2U\\xe7f\\x05\\x8...</td>\n    </tr>\n  </tbody>\n</table>\n</div>"
     },
     "execution_count": 6,
     "metadata": {},
     "output_type": "execute_result"
    }
   ],
   "source": [
    "subjects = pd.read_parquet('data/dim_ab_subjects_limited.parque')\n",
    "subjects.head()"
   ]
  },
  {
   "cell_type": "code",
   "execution_count": 7,
   "id": "b9aa13d0-9718-43e1-81b9-3a7f617fe108",
   "metadata": {
    "ExecuteTime": {
     "end_time": "2023-12-09T10:25:30.073025Z",
     "start_time": "2023-12-09T10:25:29.831695Z"
    }
   },
   "outputs": [
    {
     "name": "stderr",
     "output_type": "stream",
     "text": [
      "/var/folders/p2/fmvj8hvs1l753rcs5yft1q880000gn/T/ipykernel_2028/653436315.py:1: FutureWarning: Treating datetime data as categorical rather than numeric in `.describe` is deprecated and will be removed in a future version of pandas. Specify `datetime_is_numeric=True` to silence this warning and adopt the future behavior now.\n",
      "  subjects.describe()\n"
     ]
    },
    {
     "data": {
      "text/plain": "       dateAmsterdam              eventTimestamp  \\\ncount         180000                      180000   \nunique            18                      179990   \ntop       2022-10-24  2022-11-07 12:33:02.062000   \nfreq           10000                           2   \nfirst            NaN  2022-10-24 08:03:06.036000   \nlast             NaN  2022-11-10 12:57:42.491000   \n\n                                            visitId  \\\ncount                                        180000   \nunique                                       180000   \ntop     Nq4gvyoAvmStiEOA20VdigA0YHvDbU8oMpkhuD4uAn4   \nfreq                                              1   \nfirst                                           NaN   \nlast                                            NaN   \n\n                                               customerId  \\\ncount                                               58637   \nunique                                              57986   \ntop     b'F\\xb3\\xd4y,\\xb9\\xa5)M\\xf4\\xc3\\xfa\\xea\\x88\\x8...   \nfreq                                                    4   \nfirst                                                 NaN   \nlast                                                  NaN   \n\n                                                 deviceId  \ncount                                              179955  \nunique                                             179208  \ntop     b'?\\xf5\\xa8\\x0b\\x80A\\xdb\\x7f2\\xcc\\xc0\\x12\\x82N...  \nfreq                                                    8  \nfirst                                                 NaN  \nlast                                                  NaN  ",
      "text/html": "<div>\n<style scoped>\n    .dataframe tbody tr th:only-of-type {\n        vertical-align: middle;\n    }\n\n    .dataframe tbody tr th {\n        vertical-align: top;\n    }\n\n    .dataframe thead th {\n        text-align: right;\n    }\n</style>\n<table border=\"1\" class=\"dataframe\">\n  <thead>\n    <tr style=\"text-align: right;\">\n      <th></th>\n      <th>dateAmsterdam</th>\n      <th>eventTimestamp</th>\n      <th>visitId</th>\n      <th>customerId</th>\n      <th>deviceId</th>\n    </tr>\n  </thead>\n  <tbody>\n    <tr>\n      <th>count</th>\n      <td>180000</td>\n      <td>180000</td>\n      <td>180000</td>\n      <td>58637</td>\n      <td>179955</td>\n    </tr>\n    <tr>\n      <th>unique</th>\n      <td>18</td>\n      <td>179990</td>\n      <td>180000</td>\n      <td>57986</td>\n      <td>179208</td>\n    </tr>\n    <tr>\n      <th>top</th>\n      <td>2022-10-24</td>\n      <td>2022-11-07 12:33:02.062000</td>\n      <td>Nq4gvyoAvmStiEOA20VdigA0YHvDbU8oMpkhuD4uAn4</td>\n      <td>b'F\\xb3\\xd4y,\\xb9\\xa5)M\\xf4\\xc3\\xfa\\xea\\x88\\x8...</td>\n      <td>b'?\\xf5\\xa8\\x0b\\x80A\\xdb\\x7f2\\xcc\\xc0\\x12\\x82N...</td>\n    </tr>\n    <tr>\n      <th>freq</th>\n      <td>10000</td>\n      <td>2</td>\n      <td>1</td>\n      <td>4</td>\n      <td>8</td>\n    </tr>\n    <tr>\n      <th>first</th>\n      <td>NaN</td>\n      <td>2022-10-24 08:03:06.036000</td>\n      <td>NaN</td>\n      <td>NaN</td>\n      <td>NaN</td>\n    </tr>\n    <tr>\n      <th>last</th>\n      <td>NaN</td>\n      <td>2022-11-10 12:57:42.491000</td>\n      <td>NaN</td>\n      <td>NaN</td>\n      <td>NaN</td>\n    </tr>\n  </tbody>\n</table>\n</div>"
     },
     "execution_count": 7,
     "metadata": {},
     "output_type": "execute_result"
    }
   ],
   "source": [
    "subjects.describe()\n",
    "# Out of 180,000 visitIds we only have 58,637 customerId's"
   ]
  },
  {
   "cell_type": "markdown",
   "id": "eb4d5cf9-0d72-41f8-8504-a07e742322a8",
   "metadata": {},
   "source": [
    "#### Filter out rows in `subjects` for which we do not have the customerId"
   ]
  },
  {
   "cell_type": "code",
   "execution_count": 8,
   "id": "5a21fe2e-f76e-4c9b-a963-1b941fe430bd",
   "metadata": {
    "ExecuteTime": {
     "end_time": "2023-12-09T10:25:30.074673Z",
     "start_time": "2023-12-09T10:25:30.054209Z"
    }
   },
   "outputs": [],
   "source": [
    "# Drop rows with NaN values in the 'customerId' column\n",
    "subjects = subjects.dropna(subset=['customerId'])\n",
    "# Reset the index after dropping rows\n",
    "subjects.reset_index(drop=True, inplace=True)"
   ]
  },
  {
   "cell_type": "code",
   "execution_count": 9,
   "id": "b1ad4805-50c2-4724-9eec-e095fd4952e8",
   "metadata": {
    "ExecuteTime": {
     "end_time": "2023-12-09T10:25:30.260908Z",
     "start_time": "2023-12-09T10:25:30.193006Z"
    }
   },
   "outputs": [
    {
     "name": "stderr",
     "output_type": "stream",
     "text": [
      "/var/folders/p2/fmvj8hvs1l753rcs5yft1q880000gn/T/ipykernel_2028/1852931438.py:1: FutureWarning: Treating datetime data as categorical rather than numeric in `.describe` is deprecated and will be removed in a future version of pandas. Specify `datetime_is_numeric=True` to silence this warning and adopt the future behavior now.\n",
      "  subjects.describe()\n"
     ]
    },
    {
     "data": {
      "text/plain": "       dateAmsterdam              eventTimestamp  \\\ncount          58637                       58637   \nunique            18                       58637   \ntop       2022-10-27  2022-10-24 09:28:12.512000   \nfreq            4556                           1   \nfirst            NaN  2022-10-24 08:03:34.594000   \nlast             NaN  2022-11-10 12:57:30.431000   \n\n                                            visitId  \\\ncount                                         58637   \nunique                                        58637   \ntop     Nq4gvyoAvmStiEOA20VdigA0YHvDbU8oMpkhuD4uAn4   \nfreq                                              1   \nfirst                                           NaN   \nlast                                            NaN   \n\n                                               customerId  \\\ncount                                               58637   \nunique                                              57986   \ntop     b'F\\xb3\\xd4y,\\xb9\\xa5)M\\xf4\\xc3\\xfa\\xea\\x88\\x8...   \nfreq                                                    4   \nfirst                                                 NaN   \nlast                                                  NaN   \n\n                                                 deviceId  \ncount                                               58637  \nunique                                              58151  \ntop     b'l\\x0e\\xc3a\\xe3\\x18\\xbc\\xc3\\xd0C:\\xd3^\\xd36\\x...  \nfreq                                                    3  \nfirst                                                 NaN  \nlast                                                  NaN  ",
      "text/html": "<div>\n<style scoped>\n    .dataframe tbody tr th:only-of-type {\n        vertical-align: middle;\n    }\n\n    .dataframe tbody tr th {\n        vertical-align: top;\n    }\n\n    .dataframe thead th {\n        text-align: right;\n    }\n</style>\n<table border=\"1\" class=\"dataframe\">\n  <thead>\n    <tr style=\"text-align: right;\">\n      <th></th>\n      <th>dateAmsterdam</th>\n      <th>eventTimestamp</th>\n      <th>visitId</th>\n      <th>customerId</th>\n      <th>deviceId</th>\n    </tr>\n  </thead>\n  <tbody>\n    <tr>\n      <th>count</th>\n      <td>58637</td>\n      <td>58637</td>\n      <td>58637</td>\n      <td>58637</td>\n      <td>58637</td>\n    </tr>\n    <tr>\n      <th>unique</th>\n      <td>18</td>\n      <td>58637</td>\n      <td>58637</td>\n      <td>57986</td>\n      <td>58151</td>\n    </tr>\n    <tr>\n      <th>top</th>\n      <td>2022-10-27</td>\n      <td>2022-10-24 09:28:12.512000</td>\n      <td>Nq4gvyoAvmStiEOA20VdigA0YHvDbU8oMpkhuD4uAn4</td>\n      <td>b'F\\xb3\\xd4y,\\xb9\\xa5)M\\xf4\\xc3\\xfa\\xea\\x88\\x8...</td>\n      <td>b'l\\x0e\\xc3a\\xe3\\x18\\xbc\\xc3\\xd0C:\\xd3^\\xd36\\x...</td>\n    </tr>\n    <tr>\n      <th>freq</th>\n      <td>4556</td>\n      <td>1</td>\n      <td>1</td>\n      <td>4</td>\n      <td>3</td>\n    </tr>\n    <tr>\n      <th>first</th>\n      <td>NaN</td>\n      <td>2022-10-24 08:03:34.594000</td>\n      <td>NaN</td>\n      <td>NaN</td>\n      <td>NaN</td>\n    </tr>\n    <tr>\n      <th>last</th>\n      <td>NaN</td>\n      <td>2022-11-10 12:57:30.431000</td>\n      <td>NaN</td>\n      <td>NaN</td>\n      <td>NaN</td>\n    </tr>\n  </tbody>\n</table>\n</div>"
     },
     "execution_count": 9,
     "metadata": {},
     "output_type": "execute_result"
    }
   ],
   "source": [
    "subjects.describe()\n",
    "# We now narrowed down to only 58,657 rows of relevance"
   ]
  },
  {
   "cell_type": "code",
   "execution_count": 10,
   "id": "13ed2c40-f6cf-40f0-9497-0c307479f5ec",
   "metadata": {
    "ExecuteTime": {
     "end_time": "2023-12-09T10:25:30.407879Z",
     "start_time": "2023-12-09T10:25:30.337380Z"
    }
   },
   "outputs": [
    {
     "data": {
      "text/plain": "  dateAmsterdam          eventTimestamp  \\\n0    2022-10-24 2022-10-24 09:28:12.512   \n1    2022-10-24 2022-10-24 12:46:56.666   \n2    2022-10-24 2022-10-24 17:49:55.704   \n3    2022-10-24 2022-10-24 09:27:24.959   \n4    2022-10-24 2022-10-24 10:29:12.853   \n\n                                       visitId  \\\n0  Nq4gvyoAvmStiEOA20VdigA0YHvDbU8oMpkhuD4uAn4   \n1  CkGf5DqVccFyJQrBYGutRfGcZ7iVTNurN0/Za1YijGg   \n2  2FfWUNvmBA7dRauIJ9hbMraDaEQvo88hYODH/4yPRVs   \n3  I31IChTEh6WYT4+NnTkUxTIXDeG7FrNDy6IH2zwL8Ro   \n4  neAv1Ja7Qwe7hUTk46/nt6eX+URthgCWclw6qBxw0iY   \n\n                                          customerId  \\\n0  b'\\xd8F\\xc9\\x1fxB\\xd5\\xe6L\\x9d\\xbc\\x9f1\\x06\\x8...   \n1  b'My\\x1b\\xef\\xf3\\xd1\\x94r\\x9f\\xdb\\xb3V\\xa6\\xc2...   \n2  b'\\xde0[v>\\x82\\xc2\\x82j\\xf0\\xe5\\n\\xfb\\xf05*\\xe...   \n3  b\"F5\\xcc\\x95P[\\xcc\\xa1\\xef6\\xa4\\xd8j\\x8d\\xe7j\\...   \n4  b'A2`\\n\\x18\\x06\\xac\\xc1\\xd5p\\x80\\x9b\\xfa\\xb6\\x...   \n\n                                            deviceId  \n0  b'\\xbe\\x8c\\xc0[@\\xcd\\x8a\\xd4\\x93\\x8eW\\x06[\\xb9...  \n1  b'.Ld-1\\xbfXDye\\x14\\xab\\'\\x97\\x13\\x96\\x8c7\\xd0...  \n2  b'\\xca A^O\\xfd\\x847,5jm\\x11\\xd1Y:\\xc2j5^\\x1bB\\...  \n3  b\"\\xb6\\xed\\xf3W\\x0f\\x04FPtX\\xa3\\xf9\\xee\\x99`\\x...  \n4  b'\\x8bc\\x05=/\\xecAWgoT :b\\xc3\\xc2U\\xe7f\\x05\\x8...  ",
      "text/html": "<div>\n<style scoped>\n    .dataframe tbody tr th:only-of-type {\n        vertical-align: middle;\n    }\n\n    .dataframe tbody tr th {\n        vertical-align: top;\n    }\n\n    .dataframe thead th {\n        text-align: right;\n    }\n</style>\n<table border=\"1\" class=\"dataframe\">\n  <thead>\n    <tr style=\"text-align: right;\">\n      <th></th>\n      <th>dateAmsterdam</th>\n      <th>eventTimestamp</th>\n      <th>visitId</th>\n      <th>customerId</th>\n      <th>deviceId</th>\n    </tr>\n  </thead>\n  <tbody>\n    <tr>\n      <th>0</th>\n      <td>2022-10-24</td>\n      <td>2022-10-24 09:28:12.512</td>\n      <td>Nq4gvyoAvmStiEOA20VdigA0YHvDbU8oMpkhuD4uAn4</td>\n      <td>b'\\xd8F\\xc9\\x1fxB\\xd5\\xe6L\\x9d\\xbc\\x9f1\\x06\\x8...</td>\n      <td>b'\\xbe\\x8c\\xc0[@\\xcd\\x8a\\xd4\\x93\\x8eW\\x06[\\xb9...</td>\n    </tr>\n    <tr>\n      <th>1</th>\n      <td>2022-10-24</td>\n      <td>2022-10-24 12:46:56.666</td>\n      <td>CkGf5DqVccFyJQrBYGutRfGcZ7iVTNurN0/Za1YijGg</td>\n      <td>b'My\\x1b\\xef\\xf3\\xd1\\x94r\\x9f\\xdb\\xb3V\\xa6\\xc2...</td>\n      <td>b'.Ld-1\\xbfXDye\\x14\\xab\\'\\x97\\x13\\x96\\x8c7\\xd0...</td>\n    </tr>\n    <tr>\n      <th>2</th>\n      <td>2022-10-24</td>\n      <td>2022-10-24 17:49:55.704</td>\n      <td>2FfWUNvmBA7dRauIJ9hbMraDaEQvo88hYODH/4yPRVs</td>\n      <td>b'\\xde0[v&gt;\\x82\\xc2\\x82j\\xf0\\xe5\\n\\xfb\\xf05*\\xe...</td>\n      <td>b'\\xca A^O\\xfd\\x847,5jm\\x11\\xd1Y:\\xc2j5^\\x1bB\\...</td>\n    </tr>\n    <tr>\n      <th>3</th>\n      <td>2022-10-24</td>\n      <td>2022-10-24 09:27:24.959</td>\n      <td>I31IChTEh6WYT4+NnTkUxTIXDeG7FrNDy6IH2zwL8Ro</td>\n      <td>b\"F5\\xcc\\x95P[\\xcc\\xa1\\xef6\\xa4\\xd8j\\x8d\\xe7j\\...</td>\n      <td>b\"\\xb6\\xed\\xf3W\\x0f\\x04FPtX\\xa3\\xf9\\xee\\x99`\\x...</td>\n    </tr>\n    <tr>\n      <th>4</th>\n      <td>2022-10-24</td>\n      <td>2022-10-24 10:29:12.853</td>\n      <td>neAv1Ja7Qwe7hUTk46/nt6eX+URthgCWclw6qBxw0iY</td>\n      <td>b'A2`\\n\\x18\\x06\\xac\\xc1\\xd5p\\x80\\x9b\\xfa\\xb6\\x...</td>\n      <td>b'\\x8bc\\x05=/\\xecAWgoT :b\\xc3\\xc2U\\xe7f\\x05\\x8...</td>\n    </tr>\n  </tbody>\n</table>\n</div>"
     },
     "execution_count": 10,
     "metadata": {},
     "output_type": "execute_result"
    }
   ],
   "source": [
    "subjects.head()"
   ]
  },
  {
   "cell_type": "markdown",
   "id": "8cb93585-f763-4b6e-b6bd-a66edf03529a",
   "metadata": {},
   "source": [
    "#### Filter out rows in `pageview` for which we do not have the customerId and add customerID column"
   ]
  },
  {
   "cell_type": "code",
   "execution_count": 11,
   "id": "8c688fdc-4f44-4ee9-afd5-3f262845f668",
   "metadata": {
    "ExecuteTime": {
     "end_time": "2023-12-09T10:25:30.725478Z",
     "start_time": "2023-12-09T10:25:30.601410Z"
    }
   },
   "outputs": [],
   "source": [
    "# Perform an inner join on the 'visitId' column\n",
    "customer_pageview = pd.merge(pageview, subjects[['visitId', 'customerId']], on='visitId', how='inner')"
   ]
  },
  {
   "cell_type": "code",
   "execution_count": 12,
   "id": "f6a66cbc-dad0-4d20-b475-0ac13b5ba2c1",
   "metadata": {
    "ExecuteTime": {
     "end_time": "2023-12-09T10:25:30.812706Z",
     "start_time": "2023-12-09T10:25:30.797228Z"
    }
   },
   "outputs": [
    {
     "data": {
      "text/plain": "                     _surrogate_key dateAmsterdam          eventTimestamp  \\\n0  bc6c663d8987017154a859a3d60e00ba    2022-11-06 2022-11-06 16:25:29.898   \n1  8b393fe3d615e17158f83c8734bcd4ff    2022-11-06 2022-11-06 16:26:08.833   \n2  9e751da4dcc48f0793e2352339864b13    2022-11-06 2022-11-06 16:25:09.144   \n3  fa7c9a4ad28cd6c330c7a5f908d808c1    2022-11-06 2022-11-06 16:26:30.920   \n4  2ae88b14a3b0a1bab6e99cb85ed09b8d    2022-11-06 2022-11-06 16:25:55.267   \n\n                  eventId pageName  \\\n0  h9K-7q4Rx4Ognl3IkFxNJw       RA   \n1  jLNBbzlCXgLsHJ2JwchLMA      PDP   \n2  qEk7Sr3RPHoYOQcAJpRBTA      PDP   \n3  hIBnsKDc85Qib0t05Y5Brw      PDP   \n4  nan9s--ClRk53l7wnOtKUQ      PDP   \n\n                                        hookId  \\\n0                                         None   \n1                                         None   \n2                                         None   \n3                                         None   \n4  h9K-7q4Rx4Ognl3IkFxNJw.4_12.13.ProductImage   \n\n                                       visitId  isWebsite  isAndroid  isIOS  \\\n0  +B/A5vuJu0CzjZpdnTnjmUrEb8CgZQtg/ammnrmRk/0          1          0      0   \n1  +B/A5vuJu0CzjZpdnTnjmUrEb8CgZQtg/ammnrmRk/0          1          0      0   \n2  +B/A5vuJu0CzjZpdnTnjmUrEb8CgZQtg/ammnrmRk/0          1          0      0   \n3  +B/A5vuJu0CzjZpdnTnjmUrEb8CgZQtg/ammnrmRk/0          1          0      0   \n4  +B/A5vuJu0CzjZpdnTnjmUrEb8CgZQtg/ammnrmRk/0          1          0      0   \n\n                                          customerId  \n0  b'\\xc3vO\\xbbi\\x01\\xe8a\\xcc&\\xdc\\x1c\\xd3\\xf3]\\x...  \n1  b'\\xc3vO\\xbbi\\x01\\xe8a\\xcc&\\xdc\\x1c\\xd3\\xf3]\\x...  \n2  b'\\xc3vO\\xbbi\\x01\\xe8a\\xcc&\\xdc\\x1c\\xd3\\xf3]\\x...  \n3  b'\\xc3vO\\xbbi\\x01\\xe8a\\xcc&\\xdc\\x1c\\xd3\\xf3]\\x...  \n4  b'\\xc3vO\\xbbi\\x01\\xe8a\\xcc&\\xdc\\x1c\\xd3\\xf3]\\x...  ",
      "text/html": "<div>\n<style scoped>\n    .dataframe tbody tr th:only-of-type {\n        vertical-align: middle;\n    }\n\n    .dataframe tbody tr th {\n        vertical-align: top;\n    }\n\n    .dataframe thead th {\n        text-align: right;\n    }\n</style>\n<table border=\"1\" class=\"dataframe\">\n  <thead>\n    <tr style=\"text-align: right;\">\n      <th></th>\n      <th>_surrogate_key</th>\n      <th>dateAmsterdam</th>\n      <th>eventTimestamp</th>\n      <th>eventId</th>\n      <th>pageName</th>\n      <th>hookId</th>\n      <th>visitId</th>\n      <th>isWebsite</th>\n      <th>isAndroid</th>\n      <th>isIOS</th>\n      <th>customerId</th>\n    </tr>\n  </thead>\n  <tbody>\n    <tr>\n      <th>0</th>\n      <td>bc6c663d8987017154a859a3d60e00ba</td>\n      <td>2022-11-06</td>\n      <td>2022-11-06 16:25:29.898</td>\n      <td>h9K-7q4Rx4Ognl3IkFxNJw</td>\n      <td>RA</td>\n      <td>None</td>\n      <td>+B/A5vuJu0CzjZpdnTnjmUrEb8CgZQtg/ammnrmRk/0</td>\n      <td>1</td>\n      <td>0</td>\n      <td>0</td>\n      <td>b'\\xc3vO\\xbbi\\x01\\xe8a\\xcc&amp;\\xdc\\x1c\\xd3\\xf3]\\x...</td>\n    </tr>\n    <tr>\n      <th>1</th>\n      <td>8b393fe3d615e17158f83c8734bcd4ff</td>\n      <td>2022-11-06</td>\n      <td>2022-11-06 16:26:08.833</td>\n      <td>jLNBbzlCXgLsHJ2JwchLMA</td>\n      <td>PDP</td>\n      <td>None</td>\n      <td>+B/A5vuJu0CzjZpdnTnjmUrEb8CgZQtg/ammnrmRk/0</td>\n      <td>1</td>\n      <td>0</td>\n      <td>0</td>\n      <td>b'\\xc3vO\\xbbi\\x01\\xe8a\\xcc&amp;\\xdc\\x1c\\xd3\\xf3]\\x...</td>\n    </tr>\n    <tr>\n      <th>2</th>\n      <td>9e751da4dcc48f0793e2352339864b13</td>\n      <td>2022-11-06</td>\n      <td>2022-11-06 16:25:09.144</td>\n      <td>qEk7Sr3RPHoYOQcAJpRBTA</td>\n      <td>PDP</td>\n      <td>None</td>\n      <td>+B/A5vuJu0CzjZpdnTnjmUrEb8CgZQtg/ammnrmRk/0</td>\n      <td>1</td>\n      <td>0</td>\n      <td>0</td>\n      <td>b'\\xc3vO\\xbbi\\x01\\xe8a\\xcc&amp;\\xdc\\x1c\\xd3\\xf3]\\x...</td>\n    </tr>\n    <tr>\n      <th>3</th>\n      <td>fa7c9a4ad28cd6c330c7a5f908d808c1</td>\n      <td>2022-11-06</td>\n      <td>2022-11-06 16:26:30.920</td>\n      <td>hIBnsKDc85Qib0t05Y5Brw</td>\n      <td>PDP</td>\n      <td>None</td>\n      <td>+B/A5vuJu0CzjZpdnTnjmUrEb8CgZQtg/ammnrmRk/0</td>\n      <td>1</td>\n      <td>0</td>\n      <td>0</td>\n      <td>b'\\xc3vO\\xbbi\\x01\\xe8a\\xcc&amp;\\xdc\\x1c\\xd3\\xf3]\\x...</td>\n    </tr>\n    <tr>\n      <th>4</th>\n      <td>2ae88b14a3b0a1bab6e99cb85ed09b8d</td>\n      <td>2022-11-06</td>\n      <td>2022-11-06 16:25:55.267</td>\n      <td>nan9s--ClRk53l7wnOtKUQ</td>\n      <td>PDP</td>\n      <td>h9K-7q4Rx4Ognl3IkFxNJw.4_12.13.ProductImage</td>\n      <td>+B/A5vuJu0CzjZpdnTnjmUrEb8CgZQtg/ammnrmRk/0</td>\n      <td>1</td>\n      <td>0</td>\n      <td>0</td>\n      <td>b'\\xc3vO\\xbbi\\x01\\xe8a\\xcc&amp;\\xdc\\x1c\\xd3\\xf3]\\x...</td>\n    </tr>\n  </tbody>\n</table>\n</div>"
     },
     "execution_count": 12,
     "metadata": {},
     "output_type": "execute_result"
    }
   ],
   "source": [
    "# We have 238,497 events for the 58,657 users\n",
    "customer_pageview.head()"
   ]
  },
  {
   "cell_type": "markdown",
   "id": "020eab43-ef69-46ec-8147-4d48a0c93454",
   "metadata": {},
   "source": [
    "#### Drop rows where `hookId` is empty "
   ]
  },
  {
   "cell_type": "code",
   "execution_count": 13,
   "id": "64050a70-95ba-4c71-bfd2-5ee9cd40c8fa",
   "metadata": {
    "ExecuteTime": {
     "end_time": "2023-12-09T10:25:31.242864Z",
     "start_time": "2023-12-09T10:25:31.174642Z"
    }
   },
   "outputs": [],
   "source": [
    "# Drop rows with NaN values in the 'hookId' column\n",
    "customer_pageview = customer_pageview.dropna(subset=['hookId'])\n",
    "# Reset the index after dropping rows\n",
    "customer_pageview.reset_index(drop=True, inplace=True)"
   ]
  },
  {
   "cell_type": "code",
   "execution_count": 14,
   "id": "fb25dfbd-6235-4d90-87b7-a751b57c62d0",
   "metadata": {
    "ExecuteTime": {
     "end_time": "2023-12-09T10:25:31.397449Z",
     "start_time": "2023-12-09T10:25:31.371080Z"
    }
   },
   "outputs": [
    {
     "name": "stdout",
     "output_type": "stream",
     "text": [
      "We now have 92358 interactions and 92358 events for 22029 users\n"
     ]
    }
   ],
   "source": [
    "# We have 92,358 events for the 22,029 users\n",
    "users = customer_pageview['customerId'].nunique()\n",
    "events = customer_pageview['eventId'].nunique()\n",
    "print(f'We now have {len(customer_pageview)} interactions and {events} events for {users} users')"
   ]
  },
  {
   "cell_type": "code",
   "execution_count": 15,
   "id": "0b0dc407-5c78-4926-ade8-c2538c659dbf",
   "metadata": {
    "ExecuteTime": {
     "end_time": "2023-12-09T10:25:31.535204Z",
     "start_time": "2023-12-09T10:25:31.530327Z"
    }
   },
   "outputs": [
    {
     "data": {
      "text/plain": "                     _surrogate_key dateAmsterdam          eventTimestamp  \\\n0  2ae88b14a3b0a1bab6e99cb85ed09b8d    2022-11-06 2022-11-06 16:25:55.267   \n1  82551fd0570e41e9903b63d74a90d85d    2022-11-06 2022-11-06 20:35:14.848   \n2  0878212bcd80e377c1e64706cd79eb27    2022-11-06 2022-11-06 21:39:21.529   \n3  5729f802be5d5f6c5b24b8708966afd2    2022-11-06 2022-11-06 21:51:01.984   \n4  9dbf400371fd2920fff8c0ae74430504    2022-11-06 2022-11-06 21:17:33.179   \n\n                  eventId pageName  \\\n0  nan9s--ClRk53l7wnOtKUQ      PDP   \n1  lXcQHWOKj-eqm5OumhtIQQ       RA   \n2  jOHSL8h4ChVhsCkGbItJTA      PDP   \n3  qG4EsSRlqNDstHegNhZI0w      PDP   \n4  ugoDrvO6SeVVy-H0wPhDQQ      PDP   \n\n                                              hookId  \\\n0        h9K-7q4Rx4Ognl3IkFxNJw.4_12.13.ProductImage   \n1                iQrm94vMJLtJowlVJHBPwQ.5_8.9.Banner   \n2  t-KJK583ItYignNJeNpM0w.swaZtNMnl-K5dRXAYmtKlg_...   \n3        sMCcw77ImPpeYJ5VRu9BXw.2_14.27.ProductImage   \n4  urGWYo9TNJxs6jen0UBK5Q.2_47_seRH4BKE-YyH7hbuWI...   \n\n                                       visitId  isWebsite  isAndroid  isIOS  \\\n0  +B/A5vuJu0CzjZpdnTnjmUrEb8CgZQtg/ammnrmRk/0          1          0      0   \n1  0l9HX7jbGdA/RgKc8bwfUMHjolcq6gj0s+/mffPhu6Y          1          0      0   \n2  0l9HX7jbGdA/RgKc8bwfUMHjolcq6gj0s+/mffPhu6Y          1          0      0   \n3  0l9HX7jbGdA/RgKc8bwfUMHjolcq6gj0s+/mffPhu6Y          1          0      0   \n4  0l9HX7jbGdA/RgKc8bwfUMHjolcq6gj0s+/mffPhu6Y          1          0      0   \n\n                                          customerId  \n0  b'\\xc3vO\\xbbi\\x01\\xe8a\\xcc&\\xdc\\x1c\\xd3\\xf3]\\x...  \n1  b\"\\xe6F\\xd7\\xba\\x9c(?O'\\x08\\x1b\\x98r\\x19\\xe1\\x...  \n2  b\"\\xe6F\\xd7\\xba\\x9c(?O'\\x08\\x1b\\x98r\\x19\\xe1\\x...  \n3  b\"\\xe6F\\xd7\\xba\\x9c(?O'\\x08\\x1b\\x98r\\x19\\xe1\\x...  \n4  b\"\\xe6F\\xd7\\xba\\x9c(?O'\\x08\\x1b\\x98r\\x19\\xe1\\x...  ",
      "text/html": "<div>\n<style scoped>\n    .dataframe tbody tr th:only-of-type {\n        vertical-align: middle;\n    }\n\n    .dataframe tbody tr th {\n        vertical-align: top;\n    }\n\n    .dataframe thead th {\n        text-align: right;\n    }\n</style>\n<table border=\"1\" class=\"dataframe\">\n  <thead>\n    <tr style=\"text-align: right;\">\n      <th></th>\n      <th>_surrogate_key</th>\n      <th>dateAmsterdam</th>\n      <th>eventTimestamp</th>\n      <th>eventId</th>\n      <th>pageName</th>\n      <th>hookId</th>\n      <th>visitId</th>\n      <th>isWebsite</th>\n      <th>isAndroid</th>\n      <th>isIOS</th>\n      <th>customerId</th>\n    </tr>\n  </thead>\n  <tbody>\n    <tr>\n      <th>0</th>\n      <td>2ae88b14a3b0a1bab6e99cb85ed09b8d</td>\n      <td>2022-11-06</td>\n      <td>2022-11-06 16:25:55.267</td>\n      <td>nan9s--ClRk53l7wnOtKUQ</td>\n      <td>PDP</td>\n      <td>h9K-7q4Rx4Ognl3IkFxNJw.4_12.13.ProductImage</td>\n      <td>+B/A5vuJu0CzjZpdnTnjmUrEb8CgZQtg/ammnrmRk/0</td>\n      <td>1</td>\n      <td>0</td>\n      <td>0</td>\n      <td>b'\\xc3vO\\xbbi\\x01\\xe8a\\xcc&amp;\\xdc\\x1c\\xd3\\xf3]\\x...</td>\n    </tr>\n    <tr>\n      <th>1</th>\n      <td>82551fd0570e41e9903b63d74a90d85d</td>\n      <td>2022-11-06</td>\n      <td>2022-11-06 20:35:14.848</td>\n      <td>lXcQHWOKj-eqm5OumhtIQQ</td>\n      <td>RA</td>\n      <td>iQrm94vMJLtJowlVJHBPwQ.5_8.9.Banner</td>\n      <td>0l9HX7jbGdA/RgKc8bwfUMHjolcq6gj0s+/mffPhu6Y</td>\n      <td>1</td>\n      <td>0</td>\n      <td>0</td>\n      <td>b\"\\xe6F\\xd7\\xba\\x9c(?O'\\x08\\x1b\\x98r\\x19\\xe1\\x...</td>\n    </tr>\n    <tr>\n      <th>2</th>\n      <td>0878212bcd80e377c1e64706cd79eb27</td>\n      <td>2022-11-06</td>\n      <td>2022-11-06 21:39:21.529</td>\n      <td>jOHSL8h4ChVhsCkGbItJTA</td>\n      <td>PDP</td>\n      <td>t-KJK583ItYignNJeNpM0w.swaZtNMnl-K5dRXAYmtKlg_...</td>\n      <td>0l9HX7jbGdA/RgKc8bwfUMHjolcq6gj0s+/mffPhu6Y</td>\n      <td>1</td>\n      <td>0</td>\n      <td>0</td>\n      <td>b\"\\xe6F\\xd7\\xba\\x9c(?O'\\x08\\x1b\\x98r\\x19\\xe1\\x...</td>\n    </tr>\n    <tr>\n      <th>3</th>\n      <td>5729f802be5d5f6c5b24b8708966afd2</td>\n      <td>2022-11-06</td>\n      <td>2022-11-06 21:51:01.984</td>\n      <td>qG4EsSRlqNDstHegNhZI0w</td>\n      <td>PDP</td>\n      <td>sMCcw77ImPpeYJ5VRu9BXw.2_14.27.ProductImage</td>\n      <td>0l9HX7jbGdA/RgKc8bwfUMHjolcq6gj0s+/mffPhu6Y</td>\n      <td>1</td>\n      <td>0</td>\n      <td>0</td>\n      <td>b\"\\xe6F\\xd7\\xba\\x9c(?O'\\x08\\x1b\\x98r\\x19\\xe1\\x...</td>\n    </tr>\n    <tr>\n      <th>4</th>\n      <td>9dbf400371fd2920fff8c0ae74430504</td>\n      <td>2022-11-06</td>\n      <td>2022-11-06 21:17:33.179</td>\n      <td>ugoDrvO6SeVVy-H0wPhDQQ</td>\n      <td>PDP</td>\n      <td>urGWYo9TNJxs6jen0UBK5Q.2_47_seRH4BKE-YyH7hbuWI...</td>\n      <td>0l9HX7jbGdA/RgKc8bwfUMHjolcq6gj0s+/mffPhu6Y</td>\n      <td>1</td>\n      <td>0</td>\n      <td>0</td>\n      <td>b\"\\xe6F\\xd7\\xba\\x9c(?O'\\x08\\x1b\\x98r\\x19\\xe1\\x...</td>\n    </tr>\n  </tbody>\n</table>\n</div>"
     },
     "execution_count": 15,
     "metadata": {},
     "output_type": "execute_result"
    }
   ],
   "source": [
    "customer_pageview.head()"
   ]
  },
  {
   "cell_type": "markdown",
   "id": "91944a17-aaeb-4af7-a64a-291816e3fa9b",
   "metadata": {
    "tags": []
   },
   "source": [
    "#### Structure of `hookId`:\n",
    "The hookId  is composed of two main parts, separated by a dot (.):\n",
    "1) An **identifier** (which corresponds to the `eventId`). For example, in the hookId `o9TyTRhReXmfnWCCoxVCEQ.4_10.11.Banner`, the identifier `o9TyTRhReXmfnWCCoxVCEQ` matches the `eventId`.\n",
    "2) An **item-specific identifier**. For example, `4_10.11` is the `itemId` which might represent the unique ID or details of the product/banner/item\n",
    "3) A **call to action** allows us to discern between these interactions for the same product or item.\n",
    "    - `product title`: Clicking on the title might lead to the product detail page.\n",
    "    - `product image`: Clicking on the image might also lead to the product detail page or a zoomed view of the product.\n",
    "    - `add to basket`: A button or link to add the product to the shopping cart.\n",
    "    - `add to wishlist`: Allows users to save the product for future reference or purchase.\n",
    "    - `compare with other product`: An option to compare the product's specifications, price, etc., with another product.\n",
    "\n",
    "#### Extract different components from `hookId`\n",
    "Given the structured nature of `hookId`, we will split it to extract different components."
   ]
  },
  {
   "cell_type": "code",
   "execution_count": 26,
   "id": "131c3b49-c1da-4b34-9c30-0f7f6f4995e5",
   "metadata": {
    "ExecuteTime": {
     "end_time": "2023-12-09T10:32:11.527760Z",
     "start_time": "2023-12-09T10:32:11.309922Z"
    }
   },
   "outputs": [],
   "source": [
    "# Create a copy of the DataFrame slice to avoid the warning\n",
    "customer_pageview = customer_pageview.copy()\n",
    "\n",
    "# Split using regex pattern\n",
    "splits = customer_pageview_copy['hookId'].str.extract(r'^(.*?)\\.(.*)\\.(.*?)$')\n",
    "\n",
    "# Assign the new columns using the copy\n",
    "customer_pageview['eventId'] = splits[0]\n",
    "customer_pageview['itemId'] = splits[1]\n",
    "customer_pageview['callToAction'] = splits[2]"
   ]
  },
  {
   "cell_type": "code",
   "execution_count": 27,
   "id": "8be0edcd-2494-442d-ac62-fbd750fdee42",
   "metadata": {
    "ExecuteTime": {
     "end_time": "2023-12-09T10:32:14.814948Z",
     "start_time": "2023-12-09T10:32:14.799939Z"
    }
   },
   "outputs": [
    {
     "data": {
      "text/plain": "                     _surrogate_key dateAmsterdam          eventTimestamp  \\\n0  8ac2af91c6e3ee5a5014aa3a197e38fc    2022-10-27 2022-10-27 17:27:32.591   \n1  e561e7810cf344fcd1784f62b8d4d2fb    2022-10-27 2022-10-27 17:28:48.129   \n2  321b4c4fc448c0dce7f929270312ca45    2022-10-28 2022-10-28 11:51:41.705   \n3  dec8c0c1a4b013d1b502657cc423f535    2022-10-28 2022-10-28 11:52:49.048   \n4  691be6d0fb6124bc1faaf9b23ede2211    2022-11-07 2022-11-07 12:09:29.338   \n\n                  eventId pageName  \\\n0  pL2FH7DTjYwFMUSkli5PfQ      CMS   \n1  obNm8Iw6wzNIovghB79EOQ      PDP   \n2  t3anxWg1nUbMA-44x6lOmw      PDP   \n3  jGkijzj4gFHHjaumTw5LpQ      PDP   \n4  rtxpoI4bsSIB5bZ-IlpD2A      PDP   \n\n                                              hookId  \\\n0             pL2FH7DTjYwFMUSkli5PfQ.2_3.4.TopBanner   \n1  obNm8Iw6wzNIovghB79EOQ.jcJmBPH1F8iK-YwrVFRDCg_...   \n2  t3anxWg1nUbMA-44x6lOmw.i9mp88RjihyCorJ06cVD0A_...   \n3        jGkijzj4gFHHjaumTw5LpQ.2_33.38.ProductImage   \n4  rtxpoI4bsSIB5bZ-IlpD2A.teav7OJzK5IJPswFk-pJGA_...   \n\n                                       visitId  isWebsite  isAndroid  isIOS  \\\n0  ++4ODPvx31YfLAModD8pRFa0TcvXcztsw25SNtLGVME          1          0      0   \n1  ++4ODPvx31YfLAModD8pRFa0TcvXcztsw25SNtLGVME          1          0      0   \n2  ++6EbrtCs41Vd1TUSKwsM3TrhTJPrflyEJ5SC6R+Rls          1          0      0   \n3  ++6EbrtCs41Vd1TUSKwsM3TrhTJPrflyEJ5SC6R+Rls          1          0      0   \n4  ++6Zspb/bsvDDhtAo14SZvwvc4hoVbdfYrDy9+dF7Fw          1          0      0   \n\n                                          customerId  visitId_timeSpent  \\\n0  b'[\\xb9\\xd7\\x9a\\x08l\\x15u\\xf2u\\xed4\\xb0\\xc6\\xd...              0.000   \n1  b'[\\xb9\\xd7\\x9a\\x08l\\x15u\\xf2u\\xed4\\xb0\\xc6\\xd...             75.538   \n2  b'Gy\\x9b\\xa4\\x8e_\\x01\\x16\\xec|\\xcd\\x7fJV\\x07d\\...              0.000   \n3  b'Gy\\x9b\\xa4\\x8e_\\x01\\x16\\xec|\\xcd\\x7fJV\\x07d\\...             67.343   \n4  b'.\\xd2\\xfb\\x94i\\xc2\\xf3\\xb8\\x8ft`\\x01\\x17\\x8d...              0.000   \n\n   num_interactions  num_items_viewed                          itemId  \\\n0                 1                 0                           2_3.4   \n1                 2                 0  jcJmBPH1F8iK-YwrVFRDCg_0_16.20   \n2                 1                 0    i9mp88RjihyCorJ06cVD0A_0_4.5   \n3                 2                 0                         2_33.38   \n4                 1                 0  teav7OJzK5IJPswFk-pJGA_0_16.55   \n\n   callToAction  \n0     TopBanner  \n1  ProductImage  \n2   ProductPage  \n3  ProductImage  \n4  ProductImage  ",
      "text/html": "<div>\n<style scoped>\n    .dataframe tbody tr th:only-of-type {\n        vertical-align: middle;\n    }\n\n    .dataframe tbody tr th {\n        vertical-align: top;\n    }\n\n    .dataframe thead th {\n        text-align: right;\n    }\n</style>\n<table border=\"1\" class=\"dataframe\">\n  <thead>\n    <tr style=\"text-align: right;\">\n      <th></th>\n      <th>_surrogate_key</th>\n      <th>dateAmsterdam</th>\n      <th>eventTimestamp</th>\n      <th>eventId</th>\n      <th>pageName</th>\n      <th>hookId</th>\n      <th>visitId</th>\n      <th>isWebsite</th>\n      <th>isAndroid</th>\n      <th>isIOS</th>\n      <th>customerId</th>\n      <th>visitId_timeSpent</th>\n      <th>num_interactions</th>\n      <th>num_items_viewed</th>\n      <th>itemId</th>\n      <th>callToAction</th>\n    </tr>\n  </thead>\n  <tbody>\n    <tr>\n      <th>0</th>\n      <td>8ac2af91c6e3ee5a5014aa3a197e38fc</td>\n      <td>2022-10-27</td>\n      <td>2022-10-27 17:27:32.591</td>\n      <td>pL2FH7DTjYwFMUSkli5PfQ</td>\n      <td>CMS</td>\n      <td>pL2FH7DTjYwFMUSkli5PfQ.2_3.4.TopBanner</td>\n      <td>++4ODPvx31YfLAModD8pRFa0TcvXcztsw25SNtLGVME</td>\n      <td>1</td>\n      <td>0</td>\n      <td>0</td>\n      <td>b'[\\xb9\\xd7\\x9a\\x08l\\x15u\\xf2u\\xed4\\xb0\\xc6\\xd...</td>\n      <td>0.000</td>\n      <td>1</td>\n      <td>0</td>\n      <td>2_3.4</td>\n      <td>TopBanner</td>\n    </tr>\n    <tr>\n      <th>1</th>\n      <td>e561e7810cf344fcd1784f62b8d4d2fb</td>\n      <td>2022-10-27</td>\n      <td>2022-10-27 17:28:48.129</td>\n      <td>obNm8Iw6wzNIovghB79EOQ</td>\n      <td>PDP</td>\n      <td>obNm8Iw6wzNIovghB79EOQ.jcJmBPH1F8iK-YwrVFRDCg_...</td>\n      <td>++4ODPvx31YfLAModD8pRFa0TcvXcztsw25SNtLGVME</td>\n      <td>1</td>\n      <td>0</td>\n      <td>0</td>\n      <td>b'[\\xb9\\xd7\\x9a\\x08l\\x15u\\xf2u\\xed4\\xb0\\xc6\\xd...</td>\n      <td>75.538</td>\n      <td>2</td>\n      <td>0</td>\n      <td>jcJmBPH1F8iK-YwrVFRDCg_0_16.20</td>\n      <td>ProductImage</td>\n    </tr>\n    <tr>\n      <th>2</th>\n      <td>321b4c4fc448c0dce7f929270312ca45</td>\n      <td>2022-10-28</td>\n      <td>2022-10-28 11:51:41.705</td>\n      <td>t3anxWg1nUbMA-44x6lOmw</td>\n      <td>PDP</td>\n      <td>t3anxWg1nUbMA-44x6lOmw.i9mp88RjihyCorJ06cVD0A_...</td>\n      <td>++6EbrtCs41Vd1TUSKwsM3TrhTJPrflyEJ5SC6R+Rls</td>\n      <td>1</td>\n      <td>0</td>\n      <td>0</td>\n      <td>b'Gy\\x9b\\xa4\\x8e_\\x01\\x16\\xec|\\xcd\\x7fJV\\x07d\\...</td>\n      <td>0.000</td>\n      <td>1</td>\n      <td>0</td>\n      <td>i9mp88RjihyCorJ06cVD0A_0_4.5</td>\n      <td>ProductPage</td>\n    </tr>\n    <tr>\n      <th>3</th>\n      <td>dec8c0c1a4b013d1b502657cc423f535</td>\n      <td>2022-10-28</td>\n      <td>2022-10-28 11:52:49.048</td>\n      <td>jGkijzj4gFHHjaumTw5LpQ</td>\n      <td>PDP</td>\n      <td>jGkijzj4gFHHjaumTw5LpQ.2_33.38.ProductImage</td>\n      <td>++6EbrtCs41Vd1TUSKwsM3TrhTJPrflyEJ5SC6R+Rls</td>\n      <td>1</td>\n      <td>0</td>\n      <td>0</td>\n      <td>b'Gy\\x9b\\xa4\\x8e_\\x01\\x16\\xec|\\xcd\\x7fJV\\x07d\\...</td>\n      <td>67.343</td>\n      <td>2</td>\n      <td>0</td>\n      <td>2_33.38</td>\n      <td>ProductImage</td>\n    </tr>\n    <tr>\n      <th>4</th>\n      <td>691be6d0fb6124bc1faaf9b23ede2211</td>\n      <td>2022-11-07</td>\n      <td>2022-11-07 12:09:29.338</td>\n      <td>rtxpoI4bsSIB5bZ-IlpD2A</td>\n      <td>PDP</td>\n      <td>rtxpoI4bsSIB5bZ-IlpD2A.teav7OJzK5IJPswFk-pJGA_...</td>\n      <td>++6Zspb/bsvDDhtAo14SZvwvc4hoVbdfYrDy9+dF7Fw</td>\n      <td>1</td>\n      <td>0</td>\n      <td>0</td>\n      <td>b'.\\xd2\\xfb\\x94i\\xc2\\xf3\\xb8\\x8ft`\\x01\\x17\\x8d...</td>\n      <td>0.000</td>\n      <td>1</td>\n      <td>0</td>\n      <td>teav7OJzK5IJPswFk-pJGA_0_16.55</td>\n      <td>ProductImage</td>\n    </tr>\n  </tbody>\n</table>\n</div>"
     },
     "execution_count": 27,
     "metadata": {},
     "output_type": "execute_result"
    }
   ],
   "source": [
    "customer_pageview.head()"
   ]
  },
  {
   "cell_type": "markdown",
   "id": "dd39d2d4-bbd0-46cb-9934-b26d02b2f938",
   "metadata": {},
   "source": [
    "#### <u>Time spent in session</u>\n",
    "Create `visitId_timeSpent` which stores time elapsed since the `visitId` session started. This metric is calculated by:\n",
    "\n",
    "1. Assigning 0 seconds to the earliest found row associated to that visitID (at time i). Since it's the first record available, we assume 0 seconds spent since we do not have any further information.\n",
    "2. Assigning X seconds to the second earliest found row associated with that visitID, whereby X is eventTimestamp at time i+1 minus event Timestamp at time i.\n",
    "3. Assigning X seconds to the third earliest found row associated with that visitID, whereby X is eventTimestamp at time i+2 minus eventTimestamp at time i.\n",
    "etc.\n",
    "The last found found row associated with that visitID would have a `visitId_timeSpent` value of its `eventTimestamp` minus the `eventTimestamp` at time i."
   ]
  },
  {
   "cell_type": "code",
   "execution_count": 28,
   "id": "6cb5600e-27bd-4aeb-b0d6-8c3fccc57585",
   "metadata": {
    "ExecuteTime": {
     "end_time": "2023-12-09T10:32:17.088929Z",
     "start_time": "2023-12-09T10:32:17.004849Z"
    }
   },
   "outputs": [],
   "source": [
    "# Convert eventTimestamp to datetime\n",
    "customer_pageview['eventTimestamp'] = pd.to_datetime(customer_pageview['eventTimestamp'])\n",
    "\n",
    "# Sort by visitId and eventTimestamp\n",
    "customer_pageview = customer_pageview.sort_values(by=['visitId', 'eventTimestamp'])\n",
    "\n",
    "# Calculate time spent in seconds for each visitId\n",
    "# First, group by 'visitId' and transform to get the first timestamp in each group\n",
    "first_timestamps = customer_pageview.groupby('visitId')['eventTimestamp'].transform('first')\n",
    "\n",
    "# Calculate the difference in seconds from the first timestamp\n",
    "customer_pageview['visitId_timeSpent'] = (customer_pageview['eventTimestamp'] - first_timestamps).dt.total_seconds()\n",
    "\n",
    "# Reset index if needed\n",
    "customer_pageview.reset_index(drop=True, inplace=True)\n"
   ]
  },
  {
   "cell_type": "code",
   "execution_count": 29,
   "id": "c3866c0d-8b86-4a62-96ec-df588d2ccb50",
   "metadata": {
    "ExecuteTime": {
     "end_time": "2023-12-09T10:32:17.673523Z",
     "start_time": "2023-12-09T10:32:17.625798Z"
    }
   },
   "outputs": [
    {
     "data": {
      "text/plain": "                        _surrogate_key dateAmsterdam          eventTimestamp  \\\n8856  0ca9b7ba757e163e2f8f44bc44d9d8d0    2022-10-27 2022-10-27 19:11:59.619   \n8857  fccff65c641e10dbaa1b2696f191c48e    2022-10-27 2022-10-27 19:13:02.035   \n8858  fe6bf0d543af54a0d682005966d88f27    2022-10-27 2022-10-27 19:13:30.818   \n8859  0a5d1aa563705c1b185643b0512bf898    2022-10-27 2022-10-27 19:14:17.399   \n8860  882d260e41935922da01a4e0cd8560a9    2022-10-27 2022-10-27 19:16:07.111   \n\n                     eventId pageName  \\\n8856  lDKKbeoj1NXtLQaCUMJMnA      PDP   \n8857  lDKKbeoj1NXtLQaCUMJMnA      PDP   \n8858  lDKKbeoj1NXtLQaCUMJMnA      PDP   \n8859  lDKKbeoj1NXtLQaCUMJMnA      PDP   \n8860  lDKKbeoj1NXtLQaCUMJMnA      PDP   \n\n                                                 hookId  \\\n8856      lDKKbeoj1NXtLQaCUMJMnA.3_21.22.ProductPageUrl   \n8857      lDKKbeoj1NXtLQaCUMJMnA.3_21.22.ProductPageUrl   \n8858      lDKKbeoj1NXtLQaCUMJMnA.3_21.31.ProductPageUrl   \n8859      lDKKbeoj1NXtLQaCUMJMnA.3_21.33.ProductPageUrl   \n8860  lDKKbeoj1NXtLQaCUMJMnA.pH213zAoChEoO7sh-qZDPw_...   \n\n                                          visitId  isWebsite  isAndroid  \\\n8856  4/wWbbjdtxG/eXJ74CI1aMvHI8rPkZkG9KJr2jWbipI          1          0   \n8857  4/wWbbjdtxG/eXJ74CI1aMvHI8rPkZkG9KJr2jWbipI          1          0   \n8858  4/wWbbjdtxG/eXJ74CI1aMvHI8rPkZkG9KJr2jWbipI          1          0   \n8859  4/wWbbjdtxG/eXJ74CI1aMvHI8rPkZkG9KJr2jWbipI          1          0   \n8860  4/wWbbjdtxG/eXJ74CI1aMvHI8rPkZkG9KJr2jWbipI          1          0   \n\n      isIOS                                         customerId  \\\n8856      0  b'\\xe6\\xfa\\x89\\x83EB~D\\xfb5\\xd9;\\x88\\x91=\\x1a\\...   \n8857      0  b'\\xe6\\xfa\\x89\\x83EB~D\\xfb5\\xd9;\\x88\\x91=\\x1a\\...   \n8858      0  b'\\xe6\\xfa\\x89\\x83EB~D\\xfb5\\xd9;\\x88\\x91=\\x1a\\...   \n8859      0  b'\\xe6\\xfa\\x89\\x83EB~D\\xfb5\\xd9;\\x88\\x91=\\x1a\\...   \n8860      0  b'\\xe6\\xfa\\x89\\x83EB~D\\xfb5\\xd9;\\x88\\x91=\\x1a\\...   \n\n      visitId_timeSpent  num_interactions  num_items_viewed  \\\n8856              0.000                 1                 0   \n8857             62.416                 2                 0   \n8858             91.199                 3                 0   \n8859            137.780                 4                 0   \n8860            247.492                 5                 0   \n\n                              itemId    callToAction  \n8856                         3_21.22  ProductPageUrl  \n8857                         3_21.22  ProductPageUrl  \n8858                         3_21.31  ProductPageUrl  \n8859                         3_21.33  ProductPageUrl  \n8860  pH213zAoChEoO7sh-qZDPw_0_17.27  ProductPageUrl  ",
      "text/html": "<div>\n<style scoped>\n    .dataframe tbody tr th:only-of-type {\n        vertical-align: middle;\n    }\n\n    .dataframe tbody tr th {\n        vertical-align: top;\n    }\n\n    .dataframe thead th {\n        text-align: right;\n    }\n</style>\n<table border=\"1\" class=\"dataframe\">\n  <thead>\n    <tr style=\"text-align: right;\">\n      <th></th>\n      <th>_surrogate_key</th>\n      <th>dateAmsterdam</th>\n      <th>eventTimestamp</th>\n      <th>eventId</th>\n      <th>pageName</th>\n      <th>hookId</th>\n      <th>visitId</th>\n      <th>isWebsite</th>\n      <th>isAndroid</th>\n      <th>isIOS</th>\n      <th>customerId</th>\n      <th>visitId_timeSpent</th>\n      <th>num_interactions</th>\n      <th>num_items_viewed</th>\n      <th>itemId</th>\n      <th>callToAction</th>\n    </tr>\n  </thead>\n  <tbody>\n    <tr>\n      <th>8856</th>\n      <td>0ca9b7ba757e163e2f8f44bc44d9d8d0</td>\n      <td>2022-10-27</td>\n      <td>2022-10-27 19:11:59.619</td>\n      <td>lDKKbeoj1NXtLQaCUMJMnA</td>\n      <td>PDP</td>\n      <td>lDKKbeoj1NXtLQaCUMJMnA.3_21.22.ProductPageUrl</td>\n      <td>4/wWbbjdtxG/eXJ74CI1aMvHI8rPkZkG9KJr2jWbipI</td>\n      <td>1</td>\n      <td>0</td>\n      <td>0</td>\n      <td>b'\\xe6\\xfa\\x89\\x83EB~D\\xfb5\\xd9;\\x88\\x91=\\x1a\\...</td>\n      <td>0.000</td>\n      <td>1</td>\n      <td>0</td>\n      <td>3_21.22</td>\n      <td>ProductPageUrl</td>\n    </tr>\n    <tr>\n      <th>8857</th>\n      <td>fccff65c641e10dbaa1b2696f191c48e</td>\n      <td>2022-10-27</td>\n      <td>2022-10-27 19:13:02.035</td>\n      <td>lDKKbeoj1NXtLQaCUMJMnA</td>\n      <td>PDP</td>\n      <td>lDKKbeoj1NXtLQaCUMJMnA.3_21.22.ProductPageUrl</td>\n      <td>4/wWbbjdtxG/eXJ74CI1aMvHI8rPkZkG9KJr2jWbipI</td>\n      <td>1</td>\n      <td>0</td>\n      <td>0</td>\n      <td>b'\\xe6\\xfa\\x89\\x83EB~D\\xfb5\\xd9;\\x88\\x91=\\x1a\\...</td>\n      <td>62.416</td>\n      <td>2</td>\n      <td>0</td>\n      <td>3_21.22</td>\n      <td>ProductPageUrl</td>\n    </tr>\n    <tr>\n      <th>8858</th>\n      <td>fe6bf0d543af54a0d682005966d88f27</td>\n      <td>2022-10-27</td>\n      <td>2022-10-27 19:13:30.818</td>\n      <td>lDKKbeoj1NXtLQaCUMJMnA</td>\n      <td>PDP</td>\n      <td>lDKKbeoj1NXtLQaCUMJMnA.3_21.31.ProductPageUrl</td>\n      <td>4/wWbbjdtxG/eXJ74CI1aMvHI8rPkZkG9KJr2jWbipI</td>\n      <td>1</td>\n      <td>0</td>\n      <td>0</td>\n      <td>b'\\xe6\\xfa\\x89\\x83EB~D\\xfb5\\xd9;\\x88\\x91=\\x1a\\...</td>\n      <td>91.199</td>\n      <td>3</td>\n      <td>0</td>\n      <td>3_21.31</td>\n      <td>ProductPageUrl</td>\n    </tr>\n    <tr>\n      <th>8859</th>\n      <td>0a5d1aa563705c1b185643b0512bf898</td>\n      <td>2022-10-27</td>\n      <td>2022-10-27 19:14:17.399</td>\n      <td>lDKKbeoj1NXtLQaCUMJMnA</td>\n      <td>PDP</td>\n      <td>lDKKbeoj1NXtLQaCUMJMnA.3_21.33.ProductPageUrl</td>\n      <td>4/wWbbjdtxG/eXJ74CI1aMvHI8rPkZkG9KJr2jWbipI</td>\n      <td>1</td>\n      <td>0</td>\n      <td>0</td>\n      <td>b'\\xe6\\xfa\\x89\\x83EB~D\\xfb5\\xd9;\\x88\\x91=\\x1a\\...</td>\n      <td>137.780</td>\n      <td>4</td>\n      <td>0</td>\n      <td>3_21.33</td>\n      <td>ProductPageUrl</td>\n    </tr>\n    <tr>\n      <th>8860</th>\n      <td>882d260e41935922da01a4e0cd8560a9</td>\n      <td>2022-10-27</td>\n      <td>2022-10-27 19:16:07.111</td>\n      <td>lDKKbeoj1NXtLQaCUMJMnA</td>\n      <td>PDP</td>\n      <td>lDKKbeoj1NXtLQaCUMJMnA.pH213zAoChEoO7sh-qZDPw_...</td>\n      <td>4/wWbbjdtxG/eXJ74CI1aMvHI8rPkZkG9KJr2jWbipI</td>\n      <td>1</td>\n      <td>0</td>\n      <td>0</td>\n      <td>b'\\xe6\\xfa\\x89\\x83EB~D\\xfb5\\xd9;\\x88\\x91=\\x1a\\...</td>\n      <td>247.492</td>\n      <td>5</td>\n      <td>0</td>\n      <td>pH213zAoChEoO7sh-qZDPw_0_17.27</td>\n      <td>ProductPageUrl</td>\n    </tr>\n  </tbody>\n</table>\n</div>"
     },
     "execution_count": 29,
     "metadata": {},
     "output_type": "execute_result"
    }
   ],
   "source": [
    "# see fist 5 records for eventID lDKKbeoj1NXtLQaCUMJMnA\n",
    "customer_pageview[customer_pageview['eventId']=='lDKKbeoj1NXtLQaCUMJMnA'][:5]"
   ]
  },
  {
   "cell_type": "markdown",
   "id": "ab9d9d78-8ca0-4eda-897c-b154b06bcfa7",
   "metadata": {},
   "source": [
    "For every `visitId`, we can afterwards find the <u>total time spent on that session</u> by **taking the highest duration** associated with that `visitID`."
   ]
  },
  {
   "cell_type": "markdown",
   "id": "99ede41c-ab00-458c-b920-46182f1eb283",
   "metadata": {},
   "source": [
    "#### Number of <u>pages visited so far</u> for each record (based on its `visitID`)\n",
    "Create `num_interactions` which contains the cumulative number of interactions that have taken place for a given `visitID`. For instance, `num_interactions` for the earliest record of a given `visitID` would be 1. Next, `num_interactions` for the second earliest record of a given `visitID` would be 2 etc.\n",
    "\n",
    "This will be used later on to track the total number of pages visited (per eventId) before adding the product to basket."
   ]
  },
  {
   "cell_type": "code",
   "execution_count": 30,
   "id": "fb97b2d6-086a-479a-9e82-1ae72526b573",
   "metadata": {
    "ExecuteTime": {
     "end_time": "2023-12-09T10:32:19.098986Z",
     "start_time": "2023-12-09T10:32:19.020174Z"
    }
   },
   "outputs": [],
   "source": [
    "# First, sort the dataframe by visitId and eventTimestamp/visitId_timeSpent\n",
    "customer_pageview.sort_values(by=['visitId', 'eventTimestamp'], inplace=True)\n",
    "\n",
    "# Create the num_interactions column\n",
    "customer_pageview['num_interactions'] = customer_pageview.groupby('visitId').cumcount() + 1"
   ]
  },
  {
   "cell_type": "code",
   "execution_count": 31,
   "id": "0b0906aa-4c78-4e5c-853c-825e22f77215",
   "metadata": {
    "ExecuteTime": {
     "end_time": "2023-12-09T10:32:19.178336Z",
     "start_time": "2023-12-09T10:32:19.174386Z"
    }
   },
   "outputs": [
    {
     "data": {
      "text/plain": "                     _surrogate_key dateAmsterdam          eventTimestamp  \\\n0  8ac2af91c6e3ee5a5014aa3a197e38fc    2022-10-27 2022-10-27 17:27:32.591   \n1  e561e7810cf344fcd1784f62b8d4d2fb    2022-10-27 2022-10-27 17:28:48.129   \n2  321b4c4fc448c0dce7f929270312ca45    2022-10-28 2022-10-28 11:51:41.705   \n3  dec8c0c1a4b013d1b502657cc423f535    2022-10-28 2022-10-28 11:52:49.048   \n4  691be6d0fb6124bc1faaf9b23ede2211    2022-11-07 2022-11-07 12:09:29.338   \n\n                  eventId pageName  \\\n0  pL2FH7DTjYwFMUSkli5PfQ      CMS   \n1  obNm8Iw6wzNIovghB79EOQ      PDP   \n2  t3anxWg1nUbMA-44x6lOmw      PDP   \n3  jGkijzj4gFHHjaumTw5LpQ      PDP   \n4  rtxpoI4bsSIB5bZ-IlpD2A      PDP   \n\n                                              hookId  \\\n0             pL2FH7DTjYwFMUSkli5PfQ.2_3.4.TopBanner   \n1  obNm8Iw6wzNIovghB79EOQ.jcJmBPH1F8iK-YwrVFRDCg_...   \n2  t3anxWg1nUbMA-44x6lOmw.i9mp88RjihyCorJ06cVD0A_...   \n3        jGkijzj4gFHHjaumTw5LpQ.2_33.38.ProductImage   \n4  rtxpoI4bsSIB5bZ-IlpD2A.teav7OJzK5IJPswFk-pJGA_...   \n\n                                       visitId  isWebsite  isAndroid  isIOS  \\\n0  ++4ODPvx31YfLAModD8pRFa0TcvXcztsw25SNtLGVME          1          0      0   \n1  ++4ODPvx31YfLAModD8pRFa0TcvXcztsw25SNtLGVME          1          0      0   \n2  ++6EbrtCs41Vd1TUSKwsM3TrhTJPrflyEJ5SC6R+Rls          1          0      0   \n3  ++6EbrtCs41Vd1TUSKwsM3TrhTJPrflyEJ5SC6R+Rls          1          0      0   \n4  ++6Zspb/bsvDDhtAo14SZvwvc4hoVbdfYrDy9+dF7Fw          1          0      0   \n\n                                          customerId  visitId_timeSpent  \\\n0  b'[\\xb9\\xd7\\x9a\\x08l\\x15u\\xf2u\\xed4\\xb0\\xc6\\xd...              0.000   \n1  b'[\\xb9\\xd7\\x9a\\x08l\\x15u\\xf2u\\xed4\\xb0\\xc6\\xd...             75.538   \n2  b'Gy\\x9b\\xa4\\x8e_\\x01\\x16\\xec|\\xcd\\x7fJV\\x07d\\...              0.000   \n3  b'Gy\\x9b\\xa4\\x8e_\\x01\\x16\\xec|\\xcd\\x7fJV\\x07d\\...             67.343   \n4  b'.\\xd2\\xfb\\x94i\\xc2\\xf3\\xb8\\x8ft`\\x01\\x17\\x8d...              0.000   \n\n   num_interactions  num_items_viewed                          itemId  \\\n0                 1                 0                           2_3.4   \n1                 2                 0  jcJmBPH1F8iK-YwrVFRDCg_0_16.20   \n2                 1                 0    i9mp88RjihyCorJ06cVD0A_0_4.5   \n3                 2                 0                         2_33.38   \n4                 1                 0  teav7OJzK5IJPswFk-pJGA_0_16.55   \n\n   callToAction  \n0     TopBanner  \n1  ProductImage  \n2   ProductPage  \n3  ProductImage  \n4  ProductImage  ",
      "text/html": "<div>\n<style scoped>\n    .dataframe tbody tr th:only-of-type {\n        vertical-align: middle;\n    }\n\n    .dataframe tbody tr th {\n        vertical-align: top;\n    }\n\n    .dataframe thead th {\n        text-align: right;\n    }\n</style>\n<table border=\"1\" class=\"dataframe\">\n  <thead>\n    <tr style=\"text-align: right;\">\n      <th></th>\n      <th>_surrogate_key</th>\n      <th>dateAmsterdam</th>\n      <th>eventTimestamp</th>\n      <th>eventId</th>\n      <th>pageName</th>\n      <th>hookId</th>\n      <th>visitId</th>\n      <th>isWebsite</th>\n      <th>isAndroid</th>\n      <th>isIOS</th>\n      <th>customerId</th>\n      <th>visitId_timeSpent</th>\n      <th>num_interactions</th>\n      <th>num_items_viewed</th>\n      <th>itemId</th>\n      <th>callToAction</th>\n    </tr>\n  </thead>\n  <tbody>\n    <tr>\n      <th>0</th>\n      <td>8ac2af91c6e3ee5a5014aa3a197e38fc</td>\n      <td>2022-10-27</td>\n      <td>2022-10-27 17:27:32.591</td>\n      <td>pL2FH7DTjYwFMUSkli5PfQ</td>\n      <td>CMS</td>\n      <td>pL2FH7DTjYwFMUSkli5PfQ.2_3.4.TopBanner</td>\n      <td>++4ODPvx31YfLAModD8pRFa0TcvXcztsw25SNtLGVME</td>\n      <td>1</td>\n      <td>0</td>\n      <td>0</td>\n      <td>b'[\\xb9\\xd7\\x9a\\x08l\\x15u\\xf2u\\xed4\\xb0\\xc6\\xd...</td>\n      <td>0.000</td>\n      <td>1</td>\n      <td>0</td>\n      <td>2_3.4</td>\n      <td>TopBanner</td>\n    </tr>\n    <tr>\n      <th>1</th>\n      <td>e561e7810cf344fcd1784f62b8d4d2fb</td>\n      <td>2022-10-27</td>\n      <td>2022-10-27 17:28:48.129</td>\n      <td>obNm8Iw6wzNIovghB79EOQ</td>\n      <td>PDP</td>\n      <td>obNm8Iw6wzNIovghB79EOQ.jcJmBPH1F8iK-YwrVFRDCg_...</td>\n      <td>++4ODPvx31YfLAModD8pRFa0TcvXcztsw25SNtLGVME</td>\n      <td>1</td>\n      <td>0</td>\n      <td>0</td>\n      <td>b'[\\xb9\\xd7\\x9a\\x08l\\x15u\\xf2u\\xed4\\xb0\\xc6\\xd...</td>\n      <td>75.538</td>\n      <td>2</td>\n      <td>0</td>\n      <td>jcJmBPH1F8iK-YwrVFRDCg_0_16.20</td>\n      <td>ProductImage</td>\n    </tr>\n    <tr>\n      <th>2</th>\n      <td>321b4c4fc448c0dce7f929270312ca45</td>\n      <td>2022-10-28</td>\n      <td>2022-10-28 11:51:41.705</td>\n      <td>t3anxWg1nUbMA-44x6lOmw</td>\n      <td>PDP</td>\n      <td>t3anxWg1nUbMA-44x6lOmw.i9mp88RjihyCorJ06cVD0A_...</td>\n      <td>++6EbrtCs41Vd1TUSKwsM3TrhTJPrflyEJ5SC6R+Rls</td>\n      <td>1</td>\n      <td>0</td>\n      <td>0</td>\n      <td>b'Gy\\x9b\\xa4\\x8e_\\x01\\x16\\xec|\\xcd\\x7fJV\\x07d\\...</td>\n      <td>0.000</td>\n      <td>1</td>\n      <td>0</td>\n      <td>i9mp88RjihyCorJ06cVD0A_0_4.5</td>\n      <td>ProductPage</td>\n    </tr>\n    <tr>\n      <th>3</th>\n      <td>dec8c0c1a4b013d1b502657cc423f535</td>\n      <td>2022-10-28</td>\n      <td>2022-10-28 11:52:49.048</td>\n      <td>jGkijzj4gFHHjaumTw5LpQ</td>\n      <td>PDP</td>\n      <td>jGkijzj4gFHHjaumTw5LpQ.2_33.38.ProductImage</td>\n      <td>++6EbrtCs41Vd1TUSKwsM3TrhTJPrflyEJ5SC6R+Rls</td>\n      <td>1</td>\n      <td>0</td>\n      <td>0</td>\n      <td>b'Gy\\x9b\\xa4\\x8e_\\x01\\x16\\xec|\\xcd\\x7fJV\\x07d\\...</td>\n      <td>67.343</td>\n      <td>2</td>\n      <td>0</td>\n      <td>2_33.38</td>\n      <td>ProductImage</td>\n    </tr>\n    <tr>\n      <th>4</th>\n      <td>691be6d0fb6124bc1faaf9b23ede2211</td>\n      <td>2022-11-07</td>\n      <td>2022-11-07 12:09:29.338</td>\n      <td>rtxpoI4bsSIB5bZ-IlpD2A</td>\n      <td>PDP</td>\n      <td>rtxpoI4bsSIB5bZ-IlpD2A.teav7OJzK5IJPswFk-pJGA_...</td>\n      <td>++6Zspb/bsvDDhtAo14SZvwvc4hoVbdfYrDy9+dF7Fw</td>\n      <td>1</td>\n      <td>0</td>\n      <td>0</td>\n      <td>b'.\\xd2\\xfb\\x94i\\xc2\\xf3\\xb8\\x8ft`\\x01\\x17\\x8d...</td>\n      <td>0.000</td>\n      <td>1</td>\n      <td>0</td>\n      <td>teav7OJzK5IJPswFk-pJGA_0_16.55</td>\n      <td>ProductImage</td>\n    </tr>\n  </tbody>\n</table>\n</div>"
     },
     "execution_count": 31,
     "metadata": {},
     "output_type": "execute_result"
    }
   ],
   "source": [
    "customer_pageview.head()"
   ]
  },
  {
   "cell_type": "markdown",
   "id": "36fd47b1-6f3c-465b-b4a7-c980e9115938",
   "metadata": {},
   "source": [
    "#### <u>Amount of items</u> seen so far for each record (based on its `visitID`)\n",
    "Create `num_items_viewed` which contains the cumulative number of unique items (stored in `itemId`) that have been visited for a given `visitID`.  \n",
    "\n",
    "This will be used later on to track the total number of items viewed (per eventId) before adding the product to basket."
   ]
  },
  {
   "cell_type": "code",
   "execution_count": 32,
   "id": "ca0e6ef5-63bd-470f-978c-a97c99af534d",
   "metadata": {
    "ExecuteTime": {
     "end_time": "2023-12-09T10:32:25.163576Z",
     "start_time": "2023-12-09T10:32:19.500369Z"
    }
   },
   "outputs": [],
   "source": [
    "## Initialize an empty column for num_items_viewed\n",
    "customer_pageview['num_items_viewed'] = 0\n",
    "\n",
    "# Group by visitId and process each group\n",
    "for visit_id, group in customer_pageview.groupby('visitId'):\n",
    "    unique_items = set()\n",
    "    for index, row in group.iterrows():\n",
    "        unique_items.add(row['itemId'])\n",
    "        customer_pageview.at[index, 'num_items_viewed'] = len(unique_items)"
   ]
  },
  {
   "cell_type": "code",
   "execution_count": 33,
   "id": "0feeb17e-3b2c-4d00-aba5-add24380b548",
   "metadata": {
    "ExecuteTime": {
     "end_time": "2023-12-09T10:32:25.172879Z",
     "start_time": "2023-12-09T10:32:25.163130Z"
    }
   },
   "outputs": [
    {
     "data": {
      "text/plain": "                     _surrogate_key dateAmsterdam          eventTimestamp  \\\n0  8ac2af91c6e3ee5a5014aa3a197e38fc    2022-10-27 2022-10-27 17:27:32.591   \n1  e561e7810cf344fcd1784f62b8d4d2fb    2022-10-27 2022-10-27 17:28:48.129   \n2  321b4c4fc448c0dce7f929270312ca45    2022-10-28 2022-10-28 11:51:41.705   \n3  dec8c0c1a4b013d1b502657cc423f535    2022-10-28 2022-10-28 11:52:49.048   \n4  691be6d0fb6124bc1faaf9b23ede2211    2022-11-07 2022-11-07 12:09:29.338   \n\n                  eventId pageName  \\\n0  pL2FH7DTjYwFMUSkli5PfQ      CMS   \n1  obNm8Iw6wzNIovghB79EOQ      PDP   \n2  t3anxWg1nUbMA-44x6lOmw      PDP   \n3  jGkijzj4gFHHjaumTw5LpQ      PDP   \n4  rtxpoI4bsSIB5bZ-IlpD2A      PDP   \n\n                                              hookId  \\\n0             pL2FH7DTjYwFMUSkli5PfQ.2_3.4.TopBanner   \n1  obNm8Iw6wzNIovghB79EOQ.jcJmBPH1F8iK-YwrVFRDCg_...   \n2  t3anxWg1nUbMA-44x6lOmw.i9mp88RjihyCorJ06cVD0A_...   \n3        jGkijzj4gFHHjaumTw5LpQ.2_33.38.ProductImage   \n4  rtxpoI4bsSIB5bZ-IlpD2A.teav7OJzK5IJPswFk-pJGA_...   \n\n                                       visitId  isWebsite  isAndroid  isIOS  \\\n0  ++4ODPvx31YfLAModD8pRFa0TcvXcztsw25SNtLGVME          1          0      0   \n1  ++4ODPvx31YfLAModD8pRFa0TcvXcztsw25SNtLGVME          1          0      0   \n2  ++6EbrtCs41Vd1TUSKwsM3TrhTJPrflyEJ5SC6R+Rls          1          0      0   \n3  ++6EbrtCs41Vd1TUSKwsM3TrhTJPrflyEJ5SC6R+Rls          1          0      0   \n4  ++6Zspb/bsvDDhtAo14SZvwvc4hoVbdfYrDy9+dF7Fw          1          0      0   \n\n                                          customerId  visitId_timeSpent  \\\n0  b'[\\xb9\\xd7\\x9a\\x08l\\x15u\\xf2u\\xed4\\xb0\\xc6\\xd...              0.000   \n1  b'[\\xb9\\xd7\\x9a\\x08l\\x15u\\xf2u\\xed4\\xb0\\xc6\\xd...             75.538   \n2  b'Gy\\x9b\\xa4\\x8e_\\x01\\x16\\xec|\\xcd\\x7fJV\\x07d\\...              0.000   \n3  b'Gy\\x9b\\xa4\\x8e_\\x01\\x16\\xec|\\xcd\\x7fJV\\x07d\\...             67.343   \n4  b'.\\xd2\\xfb\\x94i\\xc2\\xf3\\xb8\\x8ft`\\x01\\x17\\x8d...              0.000   \n\n   num_interactions  num_items_viewed                          itemId  \\\n0                 1                 1                           2_3.4   \n1                 2                 2  jcJmBPH1F8iK-YwrVFRDCg_0_16.20   \n2                 1                 1    i9mp88RjihyCorJ06cVD0A_0_4.5   \n3                 2                 2                         2_33.38   \n4                 1                 1  teav7OJzK5IJPswFk-pJGA_0_16.55   \n\n   callToAction  \n0     TopBanner  \n1  ProductImage  \n2   ProductPage  \n3  ProductImage  \n4  ProductImage  ",
      "text/html": "<div>\n<style scoped>\n    .dataframe tbody tr th:only-of-type {\n        vertical-align: middle;\n    }\n\n    .dataframe tbody tr th {\n        vertical-align: top;\n    }\n\n    .dataframe thead th {\n        text-align: right;\n    }\n</style>\n<table border=\"1\" class=\"dataframe\">\n  <thead>\n    <tr style=\"text-align: right;\">\n      <th></th>\n      <th>_surrogate_key</th>\n      <th>dateAmsterdam</th>\n      <th>eventTimestamp</th>\n      <th>eventId</th>\n      <th>pageName</th>\n      <th>hookId</th>\n      <th>visitId</th>\n      <th>isWebsite</th>\n      <th>isAndroid</th>\n      <th>isIOS</th>\n      <th>customerId</th>\n      <th>visitId_timeSpent</th>\n      <th>num_interactions</th>\n      <th>num_items_viewed</th>\n      <th>itemId</th>\n      <th>callToAction</th>\n    </tr>\n  </thead>\n  <tbody>\n    <tr>\n      <th>0</th>\n      <td>8ac2af91c6e3ee5a5014aa3a197e38fc</td>\n      <td>2022-10-27</td>\n      <td>2022-10-27 17:27:32.591</td>\n      <td>pL2FH7DTjYwFMUSkli5PfQ</td>\n      <td>CMS</td>\n      <td>pL2FH7DTjYwFMUSkli5PfQ.2_3.4.TopBanner</td>\n      <td>++4ODPvx31YfLAModD8pRFa0TcvXcztsw25SNtLGVME</td>\n      <td>1</td>\n      <td>0</td>\n      <td>0</td>\n      <td>b'[\\xb9\\xd7\\x9a\\x08l\\x15u\\xf2u\\xed4\\xb0\\xc6\\xd...</td>\n      <td>0.000</td>\n      <td>1</td>\n      <td>1</td>\n      <td>2_3.4</td>\n      <td>TopBanner</td>\n    </tr>\n    <tr>\n      <th>1</th>\n      <td>e561e7810cf344fcd1784f62b8d4d2fb</td>\n      <td>2022-10-27</td>\n      <td>2022-10-27 17:28:48.129</td>\n      <td>obNm8Iw6wzNIovghB79EOQ</td>\n      <td>PDP</td>\n      <td>obNm8Iw6wzNIovghB79EOQ.jcJmBPH1F8iK-YwrVFRDCg_...</td>\n      <td>++4ODPvx31YfLAModD8pRFa0TcvXcztsw25SNtLGVME</td>\n      <td>1</td>\n      <td>0</td>\n      <td>0</td>\n      <td>b'[\\xb9\\xd7\\x9a\\x08l\\x15u\\xf2u\\xed4\\xb0\\xc6\\xd...</td>\n      <td>75.538</td>\n      <td>2</td>\n      <td>2</td>\n      <td>jcJmBPH1F8iK-YwrVFRDCg_0_16.20</td>\n      <td>ProductImage</td>\n    </tr>\n    <tr>\n      <th>2</th>\n      <td>321b4c4fc448c0dce7f929270312ca45</td>\n      <td>2022-10-28</td>\n      <td>2022-10-28 11:51:41.705</td>\n      <td>t3anxWg1nUbMA-44x6lOmw</td>\n      <td>PDP</td>\n      <td>t3anxWg1nUbMA-44x6lOmw.i9mp88RjihyCorJ06cVD0A_...</td>\n      <td>++6EbrtCs41Vd1TUSKwsM3TrhTJPrflyEJ5SC6R+Rls</td>\n      <td>1</td>\n      <td>0</td>\n      <td>0</td>\n      <td>b'Gy\\x9b\\xa4\\x8e_\\x01\\x16\\xec|\\xcd\\x7fJV\\x07d\\...</td>\n      <td>0.000</td>\n      <td>1</td>\n      <td>1</td>\n      <td>i9mp88RjihyCorJ06cVD0A_0_4.5</td>\n      <td>ProductPage</td>\n    </tr>\n    <tr>\n      <th>3</th>\n      <td>dec8c0c1a4b013d1b502657cc423f535</td>\n      <td>2022-10-28</td>\n      <td>2022-10-28 11:52:49.048</td>\n      <td>jGkijzj4gFHHjaumTw5LpQ</td>\n      <td>PDP</td>\n      <td>jGkijzj4gFHHjaumTw5LpQ.2_33.38.ProductImage</td>\n      <td>++6EbrtCs41Vd1TUSKwsM3TrhTJPrflyEJ5SC6R+Rls</td>\n      <td>1</td>\n      <td>0</td>\n      <td>0</td>\n      <td>b'Gy\\x9b\\xa4\\x8e_\\x01\\x16\\xec|\\xcd\\x7fJV\\x07d\\...</td>\n      <td>67.343</td>\n      <td>2</td>\n      <td>2</td>\n      <td>2_33.38</td>\n      <td>ProductImage</td>\n    </tr>\n    <tr>\n      <th>4</th>\n      <td>691be6d0fb6124bc1faaf9b23ede2211</td>\n      <td>2022-11-07</td>\n      <td>2022-11-07 12:09:29.338</td>\n      <td>rtxpoI4bsSIB5bZ-IlpD2A</td>\n      <td>PDP</td>\n      <td>rtxpoI4bsSIB5bZ-IlpD2A.teav7OJzK5IJPswFk-pJGA_...</td>\n      <td>++6Zspb/bsvDDhtAo14SZvwvc4hoVbdfYrDy9+dF7Fw</td>\n      <td>1</td>\n      <td>0</td>\n      <td>0</td>\n      <td>b'.\\xd2\\xfb\\x94i\\xc2\\xf3\\xb8\\x8ft`\\x01\\x17\\x8d...</td>\n      <td>0.000</td>\n      <td>1</td>\n      <td>1</td>\n      <td>teav7OJzK5IJPswFk-pJGA_0_16.55</td>\n      <td>ProductImage</td>\n    </tr>\n  </tbody>\n</table>\n</div>"
     },
     "execution_count": 33,
     "metadata": {},
     "output_type": "execute_result"
    }
   ],
   "source": [
    "customer_pageview.head()"
   ]
  },
  {
   "cell_type": "code",
   "execution_count": null,
   "id": "7511e571-50c1-4a1a-830e-e7c2303d1f50",
   "metadata": {
    "ExecuteTime": {
     "start_time": "2023-12-09T10:25:45.879861Z"
    }
   },
   "outputs": [],
   "source": []
  },
  {
   "cell_type": "code",
   "execution_count": null,
   "id": "ce90e55d-0f91-42ab-b126-83d02cf7a478",
   "metadata": {
    "ExecuteTime": {
     "start_time": "2023-12-09T10:25:45.881825Z"
    }
   },
   "outputs": [],
   "source": []
  },
  {
   "cell_type": "code",
   "execution_count": null,
   "outputs": [],
   "source": [],
   "metadata": {
    "collapsed": false
   },
   "id": "950b40f2a615eb47"
  }
 ],
 "metadata": {
  "kernelspec": {
   "display_name": "Python 3 (ipykernel)",
   "language": "python",
   "name": "python3"
  },
  "language_info": {
   "codemirror_mode": {
    "name": "ipython",
    "version": 3
   },
   "file_extension": ".py",
   "mimetype": "text/x-python",
   "name": "python",
   "nbconvert_exporter": "python",
   "pygments_lexer": "ipython3",
   "version": "3.8.16"
  }
 },
 "nbformat": 4,
 "nbformat_minor": 5
}
